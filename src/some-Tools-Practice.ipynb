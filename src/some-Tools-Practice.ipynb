{
 "cells": [
  {
   "cell_type": "markdown",
   "id": "373cbada",
   "metadata": {},
   "source": [
    "# Ms One Drive Links"
   ]
  },
  {
   "cell_type": "code",
   "execution_count": 7,
   "id": "74442c33",
   "metadata": {},
   "outputs": [
    {
     "name": "stdout",
     "output_type": "stream",
     "text": [
      "https:/\n",
      "/\n",
      "https/\n",
      "/\n",
      "internatmsu-my.sharepoint.com/\n",
      "personal/\n",
      "andreylevin_office_internat_msu_ru/\n",
      "_layouts/\n",
      "15/\n",
      "onedrive.aspx?id=%2Fpersonal%2Fandreylevin%5Foffice%5Finternat%5Fmsu%5Fru%2FDocuments%2Fbiblioteka%2Dsample&ga=1/\n",
      "personal/\n",
      "andreylevin_office_internat_msu_ru/\n",
      "_layouts/\n",
      "15/\n",
      "onedrive.aspx?ga=1&id=/\n",
      "personal/\n",
      "andreylevin_office_internat_msu_ru/\n",
      "Documents/\n",
      "biblioteka-sample/\n",
      "001 🪲 Philosophy\n"
     ]
    }
   ],
   "source": [
    "import urllib\n",
    "\n",
    "ms_path = 'https://https//internatmsu-my.sharepoint.com/personal/andreylevin_office_internat_msu_ru/_layouts/15/onedrive.aspx?id=%252Fpersonal%252Fandreylevin%255Foffice%255Finternat%255Fmsu%255Fru%252FDocuments%252Fbiblioteka%252Dsample&ga=1/personal/andreylevin_office_internat_msu_ru/_layouts/15/onedrive.aspx?ga=1&id=/personal/andreylevin_office_internat_msu_ru/Documents/biblioteka-sample/001%20%F0%9F%AA%B2%20Philosophy'\n",
    "\n",
    "dir_path = urllib.parse.unquote_plus(ms_path)\n",
    "print(dir_path.replace('/','/\\n'))\n",
    "\n"
   ]
  },
  {
   "cell_type": "code",
   "execution_count": 6,
   "id": "2baddad5",
   "metadata": {},
   "outputs": [
    {
     "name": "stdout",
     "output_type": "stream",
     "text": [
      "https:/\n",
      "/\n",
      "internatmsu-my.sharepoint.com/\n",
      "personal/\n",
      "andreylevin_office_internat_msu_ru/\n",
      "_layouts/\n",
      "15/\n",
      "onedrive.aspx?ga=1&id=/\n",
      "personal/\n",
      "andreylevin_office_internat_msu_ru/\n",
      "Documents/\n",
      "1 🏛 Biblioteka/\n",
      "001 🪲 Philosophy\n"
     ]
    }
   ],
   "source": [
    "good_path =  'https://internatmsu-my.sharepoint.com/personal/andreylevin_office_internat_msu_ru/_layouts/15/onedrive.aspx?ga=1&id=%2Fpersonal%2Fandreylevin%5Foffice%5Finternat%5Fmsu%5Fru%2FDocuments%2F1%20%F0%9F%8F%9B%20Biblioteka%2F001%20%F0%9F%AA%B2%20Philosophy'\n",
    "\n",
    "dir_path = urllib.parse.unquote_plus(good_path)\n",
    "print(dir_path.replace('/','/\\n'))\n"
   ]
  },
  {
   "cell_type": "markdown",
   "id": "7cd25e22",
   "metadata": {},
   "source": [
    "# Enum types"
   ]
  },
  {
   "cell_type": "code",
   "execution_count": 18,
   "id": "8bcdbb56",
   "metadata": {},
   "outputs": [
    {
     "name": "stdout",
     "output_type": "stream",
     "text": [
      "#blue\n"
     ]
    }
   ],
   "source": [
    "from enum import Enum\n",
    "\n",
    "# class syntax\n",
    "class Color(Enum):\n",
    "    RED = '#red'\n",
    "    GREEN = '#green'\n",
    "    BLUE = '#blue'\n",
    "    \n",
    "    def __str__(self):\n",
    "        return f'{self.value}'\n",
    "\n",
    "\n",
    "\n",
    "print(Color.BLUE)"
   ]
  },
  {
   "cell_type": "code",
   "execution_count": null,
   "id": "78d47434",
   "metadata": {},
   "outputs": [],
   "source": []
  },
  {
   "cell_type": "code",
   "execution_count": null,
   "id": "9d38af02",
   "metadata": {},
   "outputs": [],
   "source": []
  },
  {
   "cell_type": "code",
   "execution_count": null,
   "id": "e3bb1d00",
   "metadata": {},
   "outputs": [],
   "source": []
  },
  {
   "cell_type": "code",
   "execution_count": null,
   "id": "a0ad1065",
   "metadata": {},
   "outputs": [],
   "source": []
  },
  {
   "cell_type": "code",
   "execution_count": null,
   "id": "32d40da8",
   "metadata": {},
   "outputs": [],
   "source": []
  }
 ],
 "metadata": {
  "kernelspec": {
   "display_name": "Python 3 (ipykernel)",
   "language": "python",
   "name": "python3"
  },
  "language_info": {
   "codemirror_mode": {
    "name": "ipython",
    "version": 3
   },
   "file_extension": ".py",
   "mimetype": "text/x-python",
   "name": "python",
   "nbconvert_exporter": "python",
   "pygments_lexer": "ipython3",
   "version": "3.11.3"
  }
 },
 "nbformat": 4,
 "nbformat_minor": 5
}
