{
 "cells": [
  {
   "cell_type": "code",
   "execution_count": 85,
   "id": "48211889",
   "metadata": {},
   "outputs": [],
   "source": [
    "HOME = '../data/biblioteka/'"
   ]
  },
  {
   "cell_type": "code",
   "execution_count": 86,
   "id": "720952ba",
   "metadata": {},
   "outputs": [],
   "source": [
    "import utils\n",
    "\n",
    "files = utils.walk_files(HOME)"
   ]
  },
  {
   "cell_type": "code",
   "execution_count": 87,
   "id": "13e02ba6",
   "metadata": {},
   "outputs": [
    {
     "data": {
      "text/plain": [
       "7967"
      ]
     },
     "execution_count": 87,
     "metadata": {},
     "output_type": "execute_result"
    }
   ],
   "source": [
    "len(files)"
   ]
  },
  {
   "cell_type": "code",
   "execution_count": 91,
   "id": "98ba2915",
   "metadata": {},
   "outputs": [],
   "source": [
    "ddjvus = list(filter(lambda file: 'compressed' in file.name, files))"
   ]
  },
  {
   "cell_type": "code",
   "execution_count": 92,
   "id": "109147dc",
   "metadata": {},
   "outputs": [
    {
     "data": {
      "text/plain": [
       "1"
      ]
     },
     "execution_count": 92,
     "metadata": {},
     "output_type": "execute_result"
    }
   ],
   "source": [
    "len(ddjvus)"
   ]
  },
  {
   "cell_type": "code",
   "execution_count": 93,
   "id": "5bd753c5",
   "metadata": {
    "scrolled": true
   },
   "outputs": [
    {
     "name": "stdout",
     "output_type": "stream",
     "text": [
      "🏟\n",
      "🔹 \u001b[32m1.29 MiB\u001b[0m 🔹 Лисанюк Аргументация и Убеждение compressed.pdf\n",
      "\t /997 - Other Books Refactor\n",
      "🚦 1\n",
      "\t 🔹 \u001b[32m1.29 MiB\u001b[0m 🔹 Лисанюк Аргументация и Убеждение compressed.pdf\n",
      "\t\t\t /997 - Other Books Refactor\n",
      "\t Delta:  0.0\n",
      "\n"
     ]
    }
   ],
   "source": [
    "import termcolor\n",
    "import math\n",
    "\n",
    "for ddj in ddjvus:\n",
    "    print('🏟')\n",
    "    size = ddj.stat().st_size\n",
    "    hsize = format_file_size(size)\n",
    "    print('🔹', termcolor.colored(hsize, 'green'), '🔹', ddj.name)\n",
    "    print('\\t', ddj.parent.as_posix().replace('../data/biblioteka', ''))\n",
    "    \n",
    "    first_part = ddj.name.split('.')[0]\n",
    "    same_files = list(filter(lambda file: first_part == file.name.split('.')[0], files))\n",
    "    print('🚦', len(same_files))\n",
    "    for same in same_files:\n",
    "        if same.suffix != '.pdf':\n",
    "            continue\n",
    "            \n",
    "        size_same = same.stat().st_size\n",
    "        human_same = format_file_size(size_same)\n",
    "        print('\\t', '🔹', termcolor.colored(human_same, 'green'), '🔹', same.name)\n",
    "        print('\\t\\t\\t', same.parent.as_posix().replace('../data/biblioteka', ''))\n",
    "        delta = math.fabs(size - size_same) / max(size,size_same)\n",
    "        print('\\t', 'Delta: ', f'{delta:.1f}')\n",
    "        if (delta > 0.2):\n",
    "            print('\\t', '🔴🔴🔴')\n",
    "            print()\n",
    "            print()\n",
    "    \n",
    "    print()"
   ]
  },
  {
   "cell_type": "code",
   "execution_count": 94,
   "id": "fb15bcc9",
   "metadata": {},
   "outputs": [],
   "source": [
    "\n",
    "\n",
    "def format_file_size(size, decimals=2, binary_system=True):\n",
    "    if binary_system:\n",
    "        units = ['B', 'KiB', 'MiB', 'GiB', 'TiB', 'PiB', 'EiB', 'ZiB']\n",
    "        largest_unit = 'YiB'\n",
    "        step = 1024\n",
    "    else:\n",
    "        units = ['B', 'kB', 'MB', 'GB', 'TB', 'PB', 'EB', 'ZB']\n",
    "        largest_unit = 'YB'\n",
    "        step = 1000\n",
    "\n",
    "    for unit in units:\n",
    "        if size < step:\n",
    "            return ('%.' + str(decimals) + 'f %s') % (size, unit)\n",
    "        size /= step\n",
    "\n",
    "    return ('%.' + str(decimals) + 'f %s') % (size, largest_unit)"
   ]
  },
  {
   "cell_type": "code",
   "execution_count": null,
   "id": "96680206",
   "metadata": {},
   "outputs": [],
   "source": []
  },
  {
   "cell_type": "code",
   "execution_count": null,
   "id": "711ea006",
   "metadata": {},
   "outputs": [],
   "source": []
  },
  {
   "cell_type": "code",
   "execution_count": 95,
   "id": "392258f8",
   "metadata": {},
   "outputs": [],
   "source": [
    "dir_to_move = '/Users/andrewlevin/Desktop/LIBRARIUM-unlinked-ddjvu'"
   ]
  },
  {
   "cell_type": "code",
   "execution_count": 96,
   "id": "cd266466",
   "metadata": {},
   "outputs": [],
   "source": [
    "import pathlib\n",
    "dir_move = pathlib.Path(dir_to_move)"
   ]
  },
  {
   "cell_type": "code",
   "execution_count": 97,
   "id": "e09de3e3",
   "metadata": {},
   "outputs": [
    {
     "name": "stdout",
     "output_type": "stream",
     "text": [
      "🔹 Лисанюк Аргументация и Убеждение compressed.pdf\n",
      "/Users/andrewlevin/Desktop/LIBRARIUM-unlinked-ddjvu/Лисанюк Аргументация и Убеждение compressed.pdf\n",
      "\n"
     ]
    }
   ],
   "source": [
    "for ddj in ddjvus:\n",
    "    print('🔹', ddj.name)\n",
    "    new_path = dir_move.joinpath(ddj.name)\n",
    "    print(new_path)\n",
    "    print()\n",
    "    ddj.rename(new_path)"
   ]
  },
  {
   "cell_type": "code",
   "execution_count": null,
   "id": "04c70055",
   "metadata": {},
   "outputs": [],
   "source": []
  },
  {
   "cell_type": "code",
   "execution_count": null,
   "id": "b2a8bf2f",
   "metadata": {},
   "outputs": [],
   "source": []
  }
 ],
 "metadata": {
  "kernelspec": {
   "display_name": "Python 3 (ipykernel)",
   "language": "python",
   "name": "python3"
  },
  "language_info": {
   "codemirror_mode": {
    "name": "ipython",
    "version": 3
   },
   "file_extension": ".py",
   "mimetype": "text/x-python",
   "name": "python",
   "nbconvert_exporter": "python",
   "pygments_lexer": "ipython3",
   "version": "3.11.3"
  }
 },
 "nbformat": 4,
 "nbformat_minor": 5
}
