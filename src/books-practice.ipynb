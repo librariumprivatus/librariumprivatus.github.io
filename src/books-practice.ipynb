{
 "cells": [
  {
   "cell_type": "code",
   "execution_count": 12,
   "id": "562642f2",
   "metadata": {},
   "outputs": [
    {
     "name": "stdout",
     "output_type": "stream",
     "text": [
      "../data/book-practice/covers/kolman.djvu.jpg\n"
     ]
    }
   ],
   "source": [
    "import toolsPDF\n",
    "import toolsDJVU\n",
    "import toolsEPUB\n",
    "\n",
    "import pathlib\n",
    "\n",
    "\n",
    "book = pathlib.Path('../data/book-practice/stories.epub')\n",
    "\n",
    "book = pathlib.Path('../data/book-practice/kolman.djvu')\n",
    "\n",
    "\n",
    "\n",
    "cover = book.parent.joinpath('covers/').joinpath(book.name+'.jpg')\n",
    "\n",
    "\n",
    "out = toolsDJVU.cover(book, cover)\n",
    "\n",
    "\n",
    "print(out)"
   ]
  },
  {
   "cell_type": "code",
   "execution_count": 10,
   "id": "c72b48b0",
   "metadata": {},
   "outputs": [
    {
     "name": "stdout",
     "output_type": "stream",
     "text": [
      "Err. try: with open(cover.as_posix()\n"
     ]
    }
   ],
   "source": [
    "data = '123'\n",
    "\n",
    "import utils\n",
    "\n",
    "utils.write_file(cover, data)\n",
    "\n"
   ]
  },
  {
   "cell_type": "code",
   "execution_count": 5,
   "id": "c2923f6b",
   "metadata": {},
   "outputs": [
    {
     "name": "stdout",
     "output_type": "stream",
     "text": [
      "/Users/andrewlevin/Desktop/1-LIBRARIUM-PRIVATUS/data-librariumprivatus/book-practice/cover/stories.epub.jpg.txt\n"
     ]
    }
   ],
   "source": [
    "full_cover = cover.resolve().as_posix()\n",
    "\n",
    "print(full_cover)"
   ]
  },
  {
   "cell_type": "code",
   "execution_count": null,
   "id": "71d76f80",
   "metadata": {},
   "outputs": [],
   "source": []
  },
  {
   "cell_type": "code",
   "execution_count": null,
   "id": "75ce74bf",
   "metadata": {},
   "outputs": [],
   "source": []
  },
  {
   "cell_type": "code",
   "execution_count": null,
   "id": "fdac1131",
   "metadata": {},
   "outputs": [],
   "source": []
  },
  {
   "cell_type": "code",
   "execution_count": null,
   "id": "07756bc3",
   "metadata": {},
   "outputs": [],
   "source": []
  },
  {
   "cell_type": "code",
   "execution_count": null,
   "id": "8db3879c",
   "metadata": {},
   "outputs": [],
   "source": []
  },
  {
   "cell_type": "code",
   "execution_count": null,
   "id": "993b022a",
   "metadata": {},
   "outputs": [],
   "source": []
  }
 ],
 "metadata": {
  "kernelspec": {
   "display_name": "Python 3 (ipykernel)",
   "language": "python",
   "name": "python3"
  },
  "language_info": {
   "codemirror_mode": {
    "name": "ipython",
    "version": 3
   },
   "file_extension": ".py",
   "mimetype": "text/x-python",
   "name": "python",
   "nbconvert_exporter": "python",
   "pygments_lexer": "ipython3",
   "version": "3.11.3"
  }
 },
 "nbformat": 4,
 "nbformat_minor": 5
}
