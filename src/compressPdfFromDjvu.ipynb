{
 "cells": [
  {
   "cell_type": "code",
   "execution_count": null,
   "id": "ecc201f9",
   "metadata": {},
   "outputs": [],
   "source": []
  },
  {
   "cell_type": "code",
   "execution_count": 3,
   "id": "8a350305",
   "metadata": {},
   "outputs": [
    {
     "ename": "IndentationError",
     "evalue": "expected an indented block after function definition on line 5 (382267538.py, line 10)",
     "output_type": "error",
     "traceback": [
      "\u001b[0;36m  Cell \u001b[0;32mIn[3], line 10\u001b[0;36m\u001b[0m\n\u001b[0;31m    def gen_cmd(file):\u001b[0m\n\u001b[0m    ^\u001b[0m\n\u001b[0;31mIndentationError\u001b[0m\u001b[0;31m:\u001b[0m expected an indented block after function definition on line 5\n"
     ]
    }
   ],
   "source": [
    "import subprocess\n",
    "import pathlib\n",
    "\n",
    "\n",
    "def makeComppressDjvuAndReplace(file):\n",
    "    pass\n",
    "\n",
    "\n",
    "\n",
    "def gen_cmd(file):\n",
    "    \n",
    "    \n",
    "    pdf = file.with_stem(f'{file.stem} compressed')\n",
    "    \n",
    "    inp = file.as_posix()\n",
    "    out = pdf.as_posix()\n",
    "    \n",
    "    ##print('\\t', 'inp: ', file)\n",
    "    ##print('\\t', 'out: ', pdf)\n",
    "    ##print('\\n\\n')\n",
    "    \n",
    "    com = [\n",
    "        'gs',  '-sDEVICE=pdfwrite',  '-dCompatibilityLevel=1.4',  '-dPDFSETTINGS=/printer',  '\\\n",
    "-dNOPAUSE',  '-dQUIET',  '-dBATCH',  f'-sOutputFile={out}',  f'{inp}',\n",
    "    ]\n",
    "\n",
    "    return com\n",
    "    \n"
   ]
  },
  {
   "cell_type": "code",
   "execution_count": null,
   "id": "cdcb5a33",
   "metadata": {},
   "outputs": [],
   "source": []
  }
 ],
 "metadata": {
  "kernelspec": {
   "display_name": "Python 3 (ipykernel)",
   "language": "python",
   "name": "python3"
  },
  "language_info": {
   "codemirror_mode": {
    "name": "ipython",
    "version": 3
   },
   "file_extension": ".py",
   "mimetype": "text/x-python",
   "name": "python",
   "nbconvert_exporter": "python",
   "pygments_lexer": "ipython3",
   "version": "3.11.3"
  }
 },
 "nbformat": 4,
 "nbformat_minor": 5
}
