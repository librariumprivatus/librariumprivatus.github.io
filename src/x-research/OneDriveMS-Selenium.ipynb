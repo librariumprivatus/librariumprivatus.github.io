{
 "cells": [
  {
   "cell_type": "code",
   "execution_count": 2,
   "id": "4241d94b",
   "metadata": {},
   "outputs": [],
   "source": [
    "from selenium import webdriver\n",
    "\n",
    "options = webdriver.ChromeOptions()\n",
    "options.add_argument(\"headless\")\n",
    "driver = webdriver.Chrome(options=options)\n",
    "\n",
    "url_start = 'https://internatmsu-my.sharepoint.com/:f:/g/personal/andreylevin_office_internat_msu_ru/EmxAJ5zxkMJAt1xM-o2aYAcBkrVcnZ_TiQ-KBOlvpEn1aQ?e=Iy7GXb'\n",
    "\n",
    "driver.get(url_start)\n",
    "\n",
    "\n"
   ]
  },
  {
   "cell_type": "code",
   "execution_count": 3,
   "id": "526f837e",
   "metadata": {},
   "outputs": [
    {
     "name": "stdout",
     "output_type": "stream",
     "text": [
      "<li class=\"ms-Breadcrumb-listItem listItem-64\"><div data-drop-target-key=\"[&quot;spItem_515&quot;,&quot;https://internatmsu-my.sharepoint.com/personal/andreylevin_office_internat_msu_ru&quot;,&quot;https://internatmsu-my.sharepoint.com/personal/andreylevin_office_internat_msu_ru/Documents&quot;,&quot;&quot;,&quot;&quot;]\" data-drop-item-type=\"null\" data-is-dropping=\"false\" droptargetkey=\"[&quot;spItem_515&quot;,&quot;https://internatmsu-my.sharepoint.com/personal/andreylevin_office_internat_msu_ru&quot;,&quot;https://internatmsu-my.sharepoint.com/personal/andreylevin_office_internat_msu_ru/Documents&quot;,&quot;&quot;,&quot;&quot;]\" itemtype=\"null\" class=\"DropTargetRelay root_eb70c59d\"><div data-drag-source-key=\"[&quot;spItem_515&quot;,&quot;https://internatmsu-my.sharepoint.com/personal/andreylevin_office_internat_msu_ru&quot;,&quot;https://internatmsu-my.sharepoint.com/personal/andreylevin_office_internat_msu_ru/Documents&quot;,&quot;&quot;,&quot;&quot;]\" data-is-dragging=\"false\" dragsourcekey=\"[&quot;spItem_515&quot;,&quot;https://internatmsu-my.sharepoint.com/personal/andreylevin_office_internat_msu_ru&quot;,&quot;https://internatmsu-my.sharepoint.com/personal/andreylevin_office_internat_msu_ru/Documents&quot;,&quot;&quot;,&quot;&quot;]\" class=\"DragSourceRelay root_eb70c59d\" draggable=\"true\"><div class=\"dropTarget_db32a283\"><div role=\"presentation\" class=\"ms-Persona-coin coin-121\"><div role=\"presentation\" class=\"ms-Persona-imageArea imageArea-123\" style=\"width: 20px; height: 20px;\"><div class=\"ms-Persona-initials initials-126\" aria-hidden=\"true\" style=\"width: 20px; height: 20px;\"><span>AL</span></div></div></div><button type=\"button\" dragdropelement=\"[object Object]\" actionstate=\"[object Object]\" itemkey=\"[&quot;spItem_515&quot;,&quot;https://internatmsu-my.sharepoint.com/personal/andreylevin_office_internat_msu_ru&quot;,&quot;https://internatmsu-my.sharepoint.com/personal/andreylevin_office_internat_msu_ru/Documents&quot;,&quot;&quot;,&quot;&quot;]\" class=\"ms-Link ms-Breadcrumb-itemLink itemLink-70\" tabindex=\"0\"><div class=\"ms-TooltipHost tooltipHost_db32a283 root-71\" role=\"none\">ANDREY LEVIN<div hidden=\"\" id=\"tooltip18\" style=\"position: absolute; width: 1px; height: 1px; margin: -1px; padding: 0px; border: 0px; overflow: hidden; white-space: nowrap;\">ANDREY LEVIN</div></div></button></div></div></div><i data-icon-name=\"ChevronRight\" aria-hidden=\"true\" class=\"ms-Breadcrumb-chevron chevron-72\"></i></li><li class=\"ms-Breadcrumb-listItem listItem-64\"><span actionstate=\"[object Object]\" itemkey=\"[&quot;spFolderItemSet_518&quot;,&quot;https://internatmsu-my.sharepoint.com/personal/andreylevin_office_internat_msu_ru&quot;,&quot;https://internatmsu-my.sharepoint.com/personal/andreylevin_office_internat_msu_ru/Documents&quot;,&quot;/personal/andreylevin_office_internat_msu_ru/Documents/biblioteka-sample&quot;,null,null,null,null,null,null,null,null,null,null,null]\" class=\"ms-Breadcrumb-item item-69\"><div class=\"ms-TooltipHost tooltipHost_db32a283 root-71\" role=\"none\">biblioteka-sample<div hidden=\"\" id=\"tooltip19\" style=\"position: absolute; width: 1px; height: 1px; margin: -1px; padding: 0px; border: 0px; overflow: hidden; white-space: nowrap;\">biblioteka-sample</div></div></span></li>\n"
     ]
    }
   ],
   "source": [
    "from selenium.webdriver.common.by import By\n",
    "from bs4 import BeautifulSoup\n",
    "\n",
    "\n",
    "content = driver.find_element(By.CLASS_NAME, 'ms-Breadcrumb-list')\n",
    "print(content.get_attribute('innerHTML'))\n"
   ]
  },
  {
   "cell_type": "code",
   "execution_count": 4,
   "id": "eab6e97e",
   "metadata": {},
   "outputs": [
    {
     "ename": "NoSuchElementException",
     "evalue": "Message: no such element: Unable to locate element: {\"method\":\"css selector\",\"selector\":\".ms-DetailsList-contentWrapper\"}\n  (Session info: headless chrome=112.0.5615.121)\nStacktrace:\n0   chromedriver                        0x0000000102819670 chromedriver + 4298352\n1   chromedriver                        0x0000000102811bbc chromedriver + 4266940\n2   chromedriver                        0x0000000102444758 chromedriver + 280408\n3   chromedriver                        0x000000010247fb38 chromedriver + 523064\n4   chromedriver                        0x00000001024b8080 chromedriver + 753792\n5   chromedriver                        0x00000001024722d0 chromedriver + 467664\n6   chromedriver                        0x0000000102473354 chromedriver + 471892\n7   chromedriver                        0x00000001027d96c4 chromedriver + 4036292\n8   chromedriver                        0x00000001027ddc64 chromedriver + 4054116\n9   chromedriver                        0x00000001027e42d8 chromedriver + 4080344\n10  chromedriver                        0x00000001027de970 chromedriver + 4057456\n11  chromedriver                        0x00000001027b58dc chromedriver + 3889372\n12  chromedriver                        0x00000001027fd25c chromedriver + 4182620\n13  chromedriver                        0x00000001027fd3b4 chromedriver + 4182964\n14  chromedriver                        0x000000010280c0f4 chromedriver + 4243700\n15  libsystem_pthread.dylib             0x0000000180513fa8 _pthread_start + 148\n16  libsystem_pthread.dylib             0x000000018050eda0 thread_start + 8\n",
     "output_type": "error",
     "traceback": [
      "\u001b[0;31m---------------------------------------------------------------------------\u001b[0m",
      "\u001b[0;31mNoSuchElementException\u001b[0m                    Traceback (most recent call last)",
      "Cell \u001b[0;32mIn[4], line 5\u001b[0m\n\u001b[1;32m      1\u001b[0m url_yaspers \u001b[38;5;241m=\u001b[39m \u001b[38;5;124m\"\u001b[39m\u001b[38;5;124mhttps://internatmsu-my.sharepoint.com/personal/andreylevin_office_internat_msu_ru/_layouts/15/onedrive.aspx?ga=1&id=\u001b[39m\u001b[38;5;132;01m%2F\u001b[39;00m\u001b[38;5;124mpersonal\u001b[39m\u001b[38;5;132;01m%2F\u001b[39;00m\u001b[38;5;124mandreylevin\u001b[39m\u001b[38;5;132;01m%5F\u001b[39;00m\u001b[38;5;124moffice\u001b[39m\u001b[38;5;132;01m%5F\u001b[39;00m\u001b[38;5;124minternat\u001b[39m\u001b[38;5;132;01m%5F\u001b[39;00m\u001b[38;5;124mmsu\u001b[39m\u001b[38;5;132;01m%5F\u001b[39;00m\u001b[38;5;124mru\u001b[39m\u001b[38;5;132;01m%2F\u001b[39;00m\u001b[38;5;124mDocuments\u001b[39m\u001b[38;5;132;01m%2F\u001b[39;00m\u001b[38;5;124mbiblioteka\u001b[39m\u001b[38;5;124m%\u001b[39m\u001b[38;5;124m2Dsample\u001b[39m\u001b[38;5;132;01m%2F\u001b[39;00m\u001b[38;5;124m001\u001b[39m\u001b[38;5;132;01m%20%\u001b[39;00m\u001b[38;5;124mF0\u001b[39m\u001b[38;5;132;01m%9F\u001b[39;00m\u001b[38;5;124m%\u001b[39m\u001b[38;5;124mAA\u001b[39m\u001b[38;5;124m%\u001b[39m\u001b[38;5;124mB2\u001b[39m\u001b[38;5;124m%\u001b[39m\u001b[38;5;124m20Philosophy\u001b[39m\u001b[38;5;124m%\u001b[39m\u001b[38;5;124m20T\u001b[39m\u001b[38;5;132;01m%2F\u001b[39;00m\u001b[38;5;124m1\u001b[39m\u001b[38;5;132;01m%20%\u001b[39;00m\u001b[38;5;124mF0\u001b[39m\u001b[38;5;132;01m%9F\u001b[39;00m\u001b[38;5;132;01m%8F\u001b[39;00m\u001b[38;5;132;01m%82%\u001b[39;00m\u001b[38;5;124m20Bright\u001b[39m\u001b[38;5;124m%\u001b[39m\u001b[38;5;124m20Personalities\u001b[39m\u001b[38;5;124m%\u001b[39m\u001b[38;5;124m20T\u001b[39m\u001b[38;5;132;01m%2F\u001b[39;00m\u001b[38;5;124m1883\u001b[39m\u001b[38;5;132;01m%20%\u001b[39;00m\u001b[38;5;124m2D\u001b[39m\u001b[38;5;124m%\u001b[39m\u001b[38;5;124m20Yaspers\u001b[39m\u001b[38;5;124m%\u001b[39m\u001b[38;5;124m20Karl\u001b[39m\u001b[38;5;124m%\u001b[39m\u001b[38;5;124m20T\u001b[39m\u001b[38;5;124m\"\u001b[39m\n\u001b[1;32m      3\u001b[0m driver\u001b[38;5;241m.\u001b[39mget(url_yaspers)\n\u001b[0;32m----> 5\u001b[0m content \u001b[38;5;241m=\u001b[39m \u001b[43mdriver\u001b[49m\u001b[38;5;241;43m.\u001b[39;49m\u001b[43mfind_element\u001b[49m\u001b[43m(\u001b[49m\u001b[43mBy\u001b[49m\u001b[38;5;241;43m.\u001b[39;49m\u001b[43mCLASS_NAME\u001b[49m\u001b[43m,\u001b[49m\u001b[43m \u001b[49m\u001b[38;5;124;43m'\u001b[39;49m\u001b[38;5;124;43mms-DetailsList-contentWrapper\u001b[39;49m\u001b[38;5;124;43m'\u001b[39;49m\u001b[43m)\u001b[49m\n\u001b[1;32m      6\u001b[0m \u001b[38;5;28mprint\u001b[39m(content\u001b[38;5;241m.\u001b[39mget_attribute(\u001b[38;5;124m'\u001b[39m\u001b[38;5;124minnerHTML\u001b[39m\u001b[38;5;124m'\u001b[39m))\n",
      "File \u001b[0;32m~/Desktop/1-LIBRARIUM-PRIVATUS/librariumprivatus.github.io/venv/lib/python3.11/site-packages/selenium/webdriver/remote/webdriver.py:831\u001b[0m, in \u001b[0;36mWebDriver.find_element\u001b[0;34m(self, by, value)\u001b[0m\n\u001b[1;32m    828\u001b[0m     by \u001b[38;5;241m=\u001b[39m By\u001b[38;5;241m.\u001b[39mCSS_SELECTOR\n\u001b[1;32m    829\u001b[0m     value \u001b[38;5;241m=\u001b[39m \u001b[38;5;124mf\u001b[39m\u001b[38;5;124m'\u001b[39m\u001b[38;5;124m[name=\u001b[39m\u001b[38;5;124m\"\u001b[39m\u001b[38;5;132;01m{\u001b[39;00mvalue\u001b[38;5;132;01m}\u001b[39;00m\u001b[38;5;124m\"\u001b[39m\u001b[38;5;124m]\u001b[39m\u001b[38;5;124m'\u001b[39m\n\u001b[0;32m--> 831\u001b[0m \u001b[38;5;28;01mreturn\u001b[39;00m \u001b[38;5;28;43mself\u001b[39;49m\u001b[38;5;241;43m.\u001b[39;49m\u001b[43mexecute\u001b[49m\u001b[43m(\u001b[49m\u001b[43mCommand\u001b[49m\u001b[38;5;241;43m.\u001b[39;49m\u001b[43mFIND_ELEMENT\u001b[49m\u001b[43m,\u001b[49m\u001b[43m \u001b[49m\u001b[43m{\u001b[49m\u001b[38;5;124;43m\"\u001b[39;49m\u001b[38;5;124;43musing\u001b[39;49m\u001b[38;5;124;43m\"\u001b[39;49m\u001b[43m:\u001b[49m\u001b[43m \u001b[49m\u001b[43mby\u001b[49m\u001b[43m,\u001b[49m\u001b[43m \u001b[49m\u001b[38;5;124;43m\"\u001b[39;49m\u001b[38;5;124;43mvalue\u001b[39;49m\u001b[38;5;124;43m\"\u001b[39;49m\u001b[43m:\u001b[49m\u001b[43m \u001b[49m\u001b[43mvalue\u001b[49m\u001b[43m}\u001b[49m\u001b[43m)\u001b[49m[\u001b[38;5;124m\"\u001b[39m\u001b[38;5;124mvalue\u001b[39m\u001b[38;5;124m\"\u001b[39m]\n",
      "File \u001b[0;32m~/Desktop/1-LIBRARIUM-PRIVATUS/librariumprivatus.github.io/venv/lib/python3.11/site-packages/selenium/webdriver/remote/webdriver.py:440\u001b[0m, in \u001b[0;36mWebDriver.execute\u001b[0;34m(self, driver_command, params)\u001b[0m\n\u001b[1;32m    438\u001b[0m response \u001b[38;5;241m=\u001b[39m \u001b[38;5;28mself\u001b[39m\u001b[38;5;241m.\u001b[39mcommand_executor\u001b[38;5;241m.\u001b[39mexecute(driver_command, params)\n\u001b[1;32m    439\u001b[0m \u001b[38;5;28;01mif\u001b[39;00m response:\n\u001b[0;32m--> 440\u001b[0m     \u001b[38;5;28;43mself\u001b[39;49m\u001b[38;5;241;43m.\u001b[39;49m\u001b[43merror_handler\u001b[49m\u001b[38;5;241;43m.\u001b[39;49m\u001b[43mcheck_response\u001b[49m\u001b[43m(\u001b[49m\u001b[43mresponse\u001b[49m\u001b[43m)\u001b[49m\n\u001b[1;32m    441\u001b[0m     response[\u001b[38;5;124m\"\u001b[39m\u001b[38;5;124mvalue\u001b[39m\u001b[38;5;124m\"\u001b[39m] \u001b[38;5;241m=\u001b[39m \u001b[38;5;28mself\u001b[39m\u001b[38;5;241m.\u001b[39m_unwrap_value(response\u001b[38;5;241m.\u001b[39mget(\u001b[38;5;124m\"\u001b[39m\u001b[38;5;124mvalue\u001b[39m\u001b[38;5;124m\"\u001b[39m, \u001b[38;5;28;01mNone\u001b[39;00m))\n\u001b[1;32m    442\u001b[0m     \u001b[38;5;28;01mreturn\u001b[39;00m response\n",
      "File \u001b[0;32m~/Desktop/1-LIBRARIUM-PRIVATUS/librariumprivatus.github.io/venv/lib/python3.11/site-packages/selenium/webdriver/remote/errorhandler.py:245\u001b[0m, in \u001b[0;36mErrorHandler.check_response\u001b[0;34m(self, response)\u001b[0m\n\u001b[1;32m    243\u001b[0m         alert_text \u001b[38;5;241m=\u001b[39m value[\u001b[38;5;124m\"\u001b[39m\u001b[38;5;124malert\u001b[39m\u001b[38;5;124m\"\u001b[39m]\u001b[38;5;241m.\u001b[39mget(\u001b[38;5;124m\"\u001b[39m\u001b[38;5;124mtext\u001b[39m\u001b[38;5;124m\"\u001b[39m)\n\u001b[1;32m    244\u001b[0m     \u001b[38;5;28;01mraise\u001b[39;00m exception_class(message, screen, stacktrace, alert_text)  \u001b[38;5;66;03m# type: ignore[call-arg]  # mypy is not smart enough here\u001b[39;00m\n\u001b[0;32m--> 245\u001b[0m \u001b[38;5;28;01mraise\u001b[39;00m exception_class(message, screen, stacktrace)\n",
      "\u001b[0;31mNoSuchElementException\u001b[0m: Message: no such element: Unable to locate element: {\"method\":\"css selector\",\"selector\":\".ms-DetailsList-contentWrapper\"}\n  (Session info: headless chrome=112.0.5615.121)\nStacktrace:\n0   chromedriver                        0x0000000102819670 chromedriver + 4298352\n1   chromedriver                        0x0000000102811bbc chromedriver + 4266940\n2   chromedriver                        0x0000000102444758 chromedriver + 280408\n3   chromedriver                        0x000000010247fb38 chromedriver + 523064\n4   chromedriver                        0x00000001024b8080 chromedriver + 753792\n5   chromedriver                        0x00000001024722d0 chromedriver + 467664\n6   chromedriver                        0x0000000102473354 chromedriver + 471892\n7   chromedriver                        0x00000001027d96c4 chromedriver + 4036292\n8   chromedriver                        0x00000001027ddc64 chromedriver + 4054116\n9   chromedriver                        0x00000001027e42d8 chromedriver + 4080344\n10  chromedriver                        0x00000001027de970 chromedriver + 4057456\n11  chromedriver                        0x00000001027b58dc chromedriver + 3889372\n12  chromedriver                        0x00000001027fd25c chromedriver + 4182620\n13  chromedriver                        0x00000001027fd3b4 chromedriver + 4182964\n14  chromedriver                        0x000000010280c0f4 chromedriver + 4243700\n15  libsystem_pthread.dylib             0x0000000180513fa8 _pthread_start + 148\n16  libsystem_pthread.dylib             0x000000018050eda0 thread_start + 8\n"
     ]
    }
   ],
   "source": [
    "url_yaspers = \"https://internatmsu-my.sharepoint.com/personal/andreylevin_office_internat_msu_ru/_layouts/15/onedrive.aspx?ga=1&id=%2Fpersonal%2Fandreylevin%5Foffice%5Finternat%5Fmsu%5Fru%2FDocuments%2Fbiblioteka%2Dsample%2F001%20%F0%9F%AA%B2%20Philosophy%20T%2F1%20%F0%9F%8F%82%20Bright%20Personalities%20T%2F1883%20%2D%20Yaspers%20Karl%20T\"\n",
    "\n",
    "driver.get(url_yaspers)\n",
    "\n",
    "content = driver.find_element(By.CLASS_NAME, 'ms-DetailsList-contentWrapper')\n",
    "print(content.get_attribute('innerHTML'))"
   ]
  },
  {
   "cell_type": "code",
   "execution_count": null,
   "id": "8deea8aa",
   "metadata": {},
   "outputs": [],
   "source": []
  },
  {
   "cell_type": "code",
   "execution_count": null,
   "id": "fb5f2062",
   "metadata": {},
   "outputs": [],
   "source": []
  },
  {
   "cell_type": "code",
   "execution_count": null,
   "id": "06bf5e54",
   "metadata": {},
   "outputs": [],
   "source": []
  },
  {
   "cell_type": "code",
   "execution_count": 1,
   "id": "16a04c61",
   "metadata": {},
   "outputs": [],
   "source": [
    "# Links"
   ]
  },
  {
   "cell_type": "code",
   "execution_count": 160,
   "id": "6d3d77ab",
   "metadata": {},
   "outputs": [
    {
     "name": "stdout",
     "output_type": "stream",
     "text": [
      "internatmsu-my.sharepoint.com\n",
      "andreylevin_office_internat_msu_ru\n",
      "biblioteka-sample\n",
      "\n",
      "https://internatmsu-my.sharepoint.com/personal/andreylevin_office_internat_msu_ru/_layouts/15/onedrive.aspx?ga=1&id=%2Fpersonal%2Fandreylevin_office_internat_msu_ru%2FDocuments%2Fbiblioteka-sample%2F001+%F0%9F%AA%B2+Philosophy+T%2F1+%F0%9F%8F%82+Bright+Personalities+T%2F1883+-+Yaspers+Karl+T%2F%D0%92%D0%B2%D0%B5%D0%B4%D0%B5%D0%BD%D0%B8%D0%B5+%D0%B2+%D1%84%D0%B8%D0%BB%D0%BE%D1%81%D0%BE%D1%84%D0%B8%D1%8E+%28%D0%AF%D1%81%D0%BF%D0%B5%D1%80%D1%81+%D0%9A%D0%B0%D1%80%D0%BB.%29.pdf&parent=%2Fpersonal%2Fandreylevin_office_internat_msu_ru%2FDocuments%2Fbiblioteka-sample%2F001+%F0%9F%AA%B2+Philosophy+T%2F1+%F0%9F%8F%82+Bright+Personalities+T%2F1883+-+Yaspers+Karl+T\n",
      "\n"
     ]
    }
   ],
   "source": [
    "import pathlib\n",
    "import urllib\n",
    "\n",
    "def SplitURL(url):\n",
    "    return urllib.parse.urlsplit(urllib.parse.unquote(url))\n",
    "    \n",
    "def getSharepointOrgUrl(url):\n",
    "    return SplitURL(url).netloc\n",
    "\n",
    "def getSharepointOrgPerosnalUrl(url):\n",
    "    return SplitURL(url).path.split('/')[2]\n",
    "\n",
    "def getSharepointBiblNameUrl(url):\n",
    "    q = urllib.parse.parse_qs(SplitURL(url).query)\n",
    "    id_path = q.get('id')\n",
    "    return id_path[0].split('/')[-1]\n",
    "\n",
    "\n",
    "\n",
    "def getSharepointElementUrl(\n",
    "    element_bibl_path: str = '',\n",
    "    sharepoint_org_url: str = 'internatmsu-my.sharepoint.com',\n",
    "    sharepoint_org_personal_url: str = 'andreylevin_office_internat_msu_ru',\n",
    "    sharepoint_bibl_name: str = 'biblioteka-sample'\n",
    "):\n",
    "\n",
    "    element_parent = '/'.join(element_bibl_path.split('/')[:-1])\n",
    "    query = urllib.parse.urlencode({\n",
    "        'ga': '1',\n",
    "        'id': f'/personal/{sharepoint_org_personal_url}/Documents/{sharepoint_bibl_name}/{element_bibl_path}',\n",
    "        'parent': f'/personal/{sharepoint_org_personal_url}/Documents/{sharepoint_bibl_name}/{element_parent}',\n",
    "    })\n",
    "    \n",
    "    return urllib.parse.urlunsplit([\n",
    "        'https',\n",
    "        sharepoint_org_url,\n",
    "        f'/personal/{sharepoint_org_personal_url}/_layouts/15/onedrive.aspx',\n",
    "        query,\n",
    "        ''])\n",
    "\n",
    "\n",
    "\n",
    "\n",
    "\n",
    "bibl_main_url = 'https://internatmsu-my.sharepoint.com/personal/andreylevin_office_internat_msu_ru/_layouts/15/onedrive.aspx?id=%2Fpersonal%2Fandreylevin%5Foffice%5Finternat%5Fmsu%5Fru%2FDocuments%2Fbiblioteka%2Dsample&ga=1'   \n",
    "\n",
    "element_bibl_path = '001 🪲 Philosophy T/1 🏂 Bright Personalities T/1883 - Yaspers Karl T/Введение в философию (Ясперс Карл.).pdf'\n",
    "\n",
    "org_shp_url = getSharepointOrgUrl(bibl_main_url)\n",
    "print(org_shp_url)\n",
    "\n",
    "personal_org_shp_url = getSharepointOrgPerosnalUrl(bibl_main_url)\n",
    "print(personal_org_shp_url)\n",
    "\n",
    "bibl_name_shp_url = getSharepointBiblNameUrl(bibl_main_url)\n",
    "print(bibl_name_shp_url)\n",
    "print()\n",
    "\n",
    "\n",
    "\n",
    "element_shp_url = getSharepointElementUrl(\n",
    "    element_bibl_path=element_bibl_path,\n",
    "    sharepoint_org_url=org_shp_url,\n",
    "    sharepoint_org_personal_url=personal_org_shp_url,\n",
    "    sharepoint_bibl_name=bibl_name_shp_url\n",
    ")\n",
    "print(element_shp_url)\n",
    "print()\n"
   ]
  },
  {
   "cell_type": "code",
   "execution_count": 169,
   "id": "c3f42a2d",
   "metadata": {},
   "outputs": [
    {
     "name": "stdout",
     "output_type": "stream",
     "text": [
      "%D0%92%D0%B2%D0%B5%D0%B4%D0%B5%D0%BD%D0%B8%D0%B5+%D0%B2+%D1%84%D0%B8%D0%BB%D0%BE%D1%81%D0%BE%D1%84%D0%B8%D1%8E+%28%D0%AF%D1%81%D0%BF%D0%B5%D1%80%D1%81+%D0%9A%D0%B0%D1%80%D0%BB.%29.pdf\n",
      "\n",
      "001+%F0%9F%AA%B2+Philosophy+T%2F1+%F0%9F%8F%82+Bright+Personalities+T%2F1883+-+Yaspers+Karl+T\n"
     ]
    }
   ],
   "source": [
    "\n",
    "def get_URLname(path):\n",
    "    return urllib.parse.quote_plus(pathlib.Path(path).name)\n",
    "\n",
    "def get_URLparent(path):\n",
    "    return urllib.parse.quote_plus(pathlib.Path(path).parent.as_posix())\n",
    "\n",
    "\n",
    "name_url = get_URLname(element_bibl_path)\n",
    "print(name_url)\n",
    "print()\n",
    "\n",
    "parent_url = get_URLparent(element_bibl_path)\n",
    "print(parent_url)\n",
    "\n"
   ]
  },
  {
   "cell_type": "code",
   "execution_count": null,
   "id": "73c76a6d",
   "metadata": {},
   "outputs": [],
   "source": []
  },
  {
   "cell_type": "code",
   "execution_count": null,
   "id": "dbea5831",
   "metadata": {},
   "outputs": [],
   "source": []
  },
  {
   "cell_type": "code",
   "execution_count": null,
   "id": "3e7beddb",
   "metadata": {},
   "outputs": [],
   "source": []
  },
  {
   "cell_type": "code",
   "execution_count": null,
   "id": "6cd8c867",
   "metadata": {},
   "outputs": [],
   "source": []
  },
  {
   "cell_type": "code",
   "execution_count": null,
   "id": "acf3a505",
   "metadata": {},
   "outputs": [],
   "source": []
  },
  {
   "cell_type": "code",
   "execution_count": 148,
   "id": "7f49cd11",
   "metadata": {},
   "outputs": [
    {
     "name": "stdout",
     "output_type": "stream",
     "text": [
      "https://internatmsu-my.sharepoint.com/:f:/g/personal/andreylevin_office_internat_msu_ru/EmxAJ5zxkMJAt1xM-o2aYAcBkrVcnZ_TiQ-KBOlvpEn1aQ?e=Iy7GXb\n"
     ]
    }
   ],
   "source": [
    "welcome_url = 'https://internatmsu-my.sharepoint.com/:f:/g/personal/andreylevin_office_internat_msu_ru/EmxAJ5zxkMJAt1xM-o2aYAcBkrVcnZ_TiQ-KBOlvpEn1aQ?e=Iy7GXb'\n",
    "print(welcome_url)"
   ]
  },
  {
   "cell_type": "code",
   "execution_count": 151,
   "id": "e1c56857",
   "metadata": {},
   "outputs": [
    {
     "name": "stdout",
     "output_type": "stream",
     "text": [
      "https://internatmsu-my.sharepoint.com/:f:/g/personal/andreylevin_office_internat_msu_ru/BAD-BADEmxAJ5zxkMJAt1xM-o2aYAcBkrVcnZ_TiQ-KBOlvpEn1aQ?e=Iy7GXb\n",
      "zsh:1: command not found: compare_Response_Url\r\n"
     ]
    }
   ],
   "source": [
    "bad_url = 'https://internatmsu-my.sharepoint.com/:f:/g/personal/andreylevin_office_internat_msu_ru/BAD-BADEmxAJ5zxkMJAt1xM-o2aYAcBkrVcnZ_TiQ-KBOlvpEn1aQ?e=Iy7GXb'\n",
    "\n",
    "print(bad_url)\n",
    "\n",
    "!compare_Response_Url"
   ]
  },
  {
   "cell_type": "code",
   "execution_count": null,
   "id": "27128a48",
   "metadata": {},
   "outputs": [],
   "source": []
  },
  {
   "cell_type": "code",
   "execution_count": null,
   "id": "24759049",
   "metadata": {},
   "outputs": [],
   "source": []
  },
  {
   "cell_type": "code",
   "execution_count": null,
   "id": "31106b2f",
   "metadata": {},
   "outputs": [],
   "source": []
  },
  {
   "cell_type": "code",
   "execution_count": null,
   "id": "800aef8e",
   "metadata": {},
   "outputs": [],
   "source": []
  },
  {
   "cell_type": "code",
   "execution_count": null,
   "id": "e77c9b7b",
   "metadata": {},
   "outputs": [],
   "source": []
  },
  {
   "cell_type": "code",
   "execution_count": null,
   "id": "1756a154",
   "metadata": {},
   "outputs": [],
   "source": [
    "# JS Attempts\n",
    "\n"
   ]
  },
  {
   "cell_type": "code",
   "execution_count": 159,
   "id": "25d53591",
   "metadata": {},
   "outputs": [
    {
     "ename": "SyntaxError",
     "evalue": "invalid syntax (3206034532.py, line 1)",
     "output_type": "error",
     "traceback": [
      "\u001b[0;36m  Cell \u001b[0;32mIn[159], line 1\u001b[0;36m\u001b[0m\n\u001b[0;31m    const element_bibl_path = '001 🪲 Philosophy T/1 🏂 Bright Personalities T/1883 - Yaspers Karl T/Введение в философию (Ясперс Карл.).pdf';\u001b[0m\n\u001b[0m          ^\u001b[0m\n\u001b[0;31mSyntaxError\u001b[0m\u001b[0;31m:\u001b[0m invalid syntax\n"
     ]
    }
   ],
   "source": [
    "\n",
    "const element_bibl_path = '001 🪲 Philosophy T/1 🏂 Bright Personalities T/1883 - Yaspers Karl T/Введение в философию (Ясперс Карл.).pdf';\n",
    "\n",
    "\n",
    "let bibl_url = 'https://internatmsu-my.sharepoint.com/personal/andreylevin_office_internat_msu_ru/_layouts/15/onedrive.aspx?id=%2Fpersonal%2Fandreylevin%5Foffice%5Finternat%5Fmsu%5Fru%2FDocuments%2Fbiblioteka%2Dsample&ga=1';\n",
    "//console.log(bibl_url);\n",
    "\n",
    "bibl_url = decodeURIComponent(bibl_url)\n",
    "//console.log(bibl_url);\n",
    "\n",
    "bibl_url = new URL(bibl_url)\n",
    "//console.log(bibl_url);\n",
    "\n",
    "const org_shp_url = bibl_url.hostname;\n",
    "console.log('->> org_shp_url: ' + org_shp_url);\n",
    "\n",
    "const personal_org_shp_url = bibl_url.pathname.split( '/' )[2];\n",
    "console.log('->> personal_org_shp_url: ' + personal_org_shp_url);\n",
    "\n",
    "const bibl_name = bibl_url.searchParams.get('id').split('/').at(-1);\n",
    "console.log('->> bibl_name: ' + bibl_name);\n",
    "\n",
    "\n",
    "function urlElement(elemPath){\n",
    "  console.log('elemPath: ' + elemPath);\n",
    "  \n",
    "  let url = 'https://'+org_shp_url;\n",
    "  const path = '/personal/'+personal_org_shp_url+'/_layouts/15/onedrive.aspx';\n",
    "  url+=path;\n",
    "  \n",
    "  const parentElem = 'PaReNt';\n",
    "  const ID = '/personal/'+personal_org_shp_url+'/Documents/'+bibl_name+'/'+elemPath;\n",
    "  const PARENT = '/personal/'+personal_org_shp_url+'/Documents/'+bibl_name+'/'+parentElem;\n",
    "  let params = '?'+'ga='+'1';\n",
    "  params+='id='\n",
    "  params+=ID\n",
    "  params+='parent='\n",
    "  params+=PARENT\n",
    "  \n",
    "  url+=params;\n",
    "  return url;\n",
    "}\n",
    "\n",
    "const elementBiblPath = '001 🪲 Philosophy T/1 🏂 Bright Personalities T/1883 - Yaspers Karl T/Введение в философию (Ясперс Карл.).pdf';\n",
    "\n",
    "const out = urlElement(elementBiblPath);\n",
    "console.log('Out: ' + out);\n",
    "\n",
    "\n",
    "/*\n",
    "element_parent = '/'.join(element_bibl_path.split('/')[:-1])\n",
    "    query = urllib.parse.urlencode({\n",
    "        'ga': '1',\n",
    "        'id': f'/personal/{sharepoint_org_personal_url}/Documents/{sharepoint_bibl_name}/{element_bibl_path}',\n",
    "        'parent': f'/personal/{sharepoint_org_personal_url}/Documents/{sharepoint_bibl_name}/{element_parent}',\n",
    "    })\n",
    "    \n",
    "    return urllib.parse.urlunsplit([\n",
    "        'https',\n",
    "        sharepoint_org_url,\n",
    "        f'/personal/{sharepoint_org_personal_url}/_layouts/15/onedrive.aspx',\n",
    "        query,\n",
    "        ''])\n",
    "*/"
   ]
  },
  {
   "cell_type": "code",
   "execution_count": 157,
   "id": "5ed24aaf",
   "metadata": {},
   "outputs": [
    {
     "data": {
      "text/plain": [
       "'https://internatmsu-my.sharepoint.com/personal/andreylevin_office_internat_msu_ru/_layouts/15/onedrive.aspx?ga=1&id=/personal/andreylevin_office_internat_msu_ru/Documents/biblioteka-sample/001 %uD83E%uDEB2 Philosophy T/1 %uD83C%uDFC2 Bright Personalities T/1883 - Yaspers Karl T/%u0412%u0432%u0435%u0434%u0435%u043D%u0438%u0435 %u0432 %u0444%u0438%u043B%u043E%u0441%u043E%u0444%u0438%u044E (%u042F%u0441%u043F%u0435%u0440%u0441 %u041A%u0430%u0440%u043B.).pdf&parent=/personal/andreylevin_office_internat_msu_ru/Documents/biblioteka-sample/001 %uD83E%uDEB2 Philosophy T/1 %uD83C%uDFC2 Bright Personalities T/1883 - Yaspers Karl T'"
      ]
     },
     "execution_count": 157,
     "metadata": {},
     "output_type": "execute_result"
    }
   ],
   "source": [
    "js_url = 'https://internatmsu-my.sharepoint.com/personal/andreylevin_office_internat_msu_ru/_layouts/15/onedrive.aspx%3Fga%3D1%26id%3D/personal/andreylevin_office_internat_msu_ru/Documents/biblioteka-sample/001%20%uD83E%uDEB2%20Philosophy%20T/1%20%uD83C%uDFC2%20Bright%20Personalities%20T/1883%20-%20Yaspers%20Karl%20T/%u0412%u0432%u0435%u0434%u0435%u043D%u0438%u0435%20%u0432%20%u0444%u0438%u043B%u043E%u0441%u043E%u0444%u0438%u044E%20%28%u042F%u0441%u043F%u0435%u0440%u0441%20%u041A%u0430%u0440%u043B.%29.pdf%26parent%3D/personal/andreylevin_office_internat_msu_ru/Documents/biblioteka-sample/001%20%uD83E%uDEB2%20Philosophy%20T/1%20%uD83C%uDFC2%20Bright%20Personalities%20T/1883%20-%20Yaspers%20Karl%20T'\n",
    "\n",
    "\n",
    "\n",
    "urllib.parse.unquote_plus(js_url)"
   ]
  },
  {
   "cell_type": "code",
   "execution_count": 158,
   "id": "fc5d7d25",
   "metadata": {},
   "outputs": [
    {
     "data": {
      "text/plain": [
       "'https://internatmsu-my.sharepoint.com/personal/andreylevin_office_internat_msu_ru/_layouts/15/onedrive.aspx?ga=1&id=/personal/andreylevin_office_internat_msu_ru/Documents/biblioteka-sample/001 🪲 Philosophy T/1 🏂 Bright Personalities T/1883 - Yaspers Karl T/Введение в философию (Ясперс Карл.).pdf&parent=/personal/andreylevin_office_internat_msu_ru/Documents/biblioteka-sample/001 🪲 Philosophy T/1 🏂 Bright Personalities T/1883 - Yaspers Karl T'"
      ]
     },
     "execution_count": 158,
     "metadata": {},
     "output_type": "execute_result"
    }
   ],
   "source": [
    "py_url = 'https://internatmsu-my.sharepoint.com/personal/andreylevin_office_internat_msu_ru/_layouts/15/onedrive.aspx?ga=1&id=%2Fpersonal%2Fandreylevin_office_internat_msu_ru%2FDocuments%2Fbiblioteka-sample%2F001+%F0%9F%AA%B2+Philosophy+T%2F1+%F0%9F%8F%82+Bright+Personalities+T%2F1883+-+Yaspers+Karl+T%2F%D0%92%D0%B2%D0%B5%D0%B4%D0%B5%D0%BD%D0%B8%D0%B5+%D0%B2+%D1%84%D0%B8%D0%BB%D0%BE%D1%81%D0%BE%D1%84%D0%B8%D1%8E+%28%D0%AF%D1%81%D0%BF%D0%B5%D1%80%D1%81+%D0%9A%D0%B0%D1%80%D0%BB.%29.pdf&parent=%2Fpersonal%2Fandreylevin_office_internat_msu_ru%2FDocuments%2Fbiblioteka-sample%2F001+%F0%9F%AA%B2+Philosophy+T%2F1+%F0%9F%8F%82+Bright+Personalities+T%2F1883+-+Yaspers+Karl+T'\n",
    "\n",
    "urllib.parse.unquote_plus(py_url)"
   ]
  },
  {
   "cell_type": "code",
   "execution_count": null,
   "id": "d19113b6",
   "metadata": {},
   "outputs": [],
   "source": []
  },
  {
   "cell_type": "code",
   "execution_count": null,
   "id": "f4032d96",
   "metadata": {},
   "outputs": [],
   "source": []
  },
  {
   "cell_type": "code",
   "execution_count": null,
   "id": "2029b615",
   "metadata": {},
   "outputs": [],
   "source": [
    "const element_bibl_path =\n",
    "  \"001 🪲 Philosophy T/1 🏂 Bright Personalities T/1883 - Yaspers Karl T/Введение в философию (Ясперс Карл.).pdf\";\n",
    "\n",
    "let bibl_url =\n",
    "  \"https://internatmsu-my.sharepoint.com/personal/andreylevin_office_internat_msu_ru/_layouts/15/onedrive.aspx?id=%2Fpersonal%2Fandreylevin%5Foffice%5Finternat%5Fmsu%5Fru%2FDocuments%2Fbiblioteka%2Dsample&ga=1\";\n",
    "//console.log(bibl_url);\n",
    "\n",
    "bibl_url = decodeURIComponent(bibl_url);\n",
    "//console.log(bibl_url);\n",
    "\n",
    "bibl_url = new URL(bibl_url);\n",
    "//console.log(bibl_url);\n",
    "\n",
    "const org_shp_url = bibl_url.hostname;\n",
    "console.log(\"->> org_shp_url: \" + org_shp_url);\n",
    "\n",
    "const personal_org_shp_url = bibl_url.pathname.split(\"/\")[2];\n",
    "console.log(\"->> personal_org_shp_url: \" + personal_org_shp_url);\n",
    "\n",
    "const bibl_name = bibl_url.searchParams.get(\"id\").split(\"/\").at(-1);\n",
    "console.log(\"->> bibl_name: \" + bibl_name);\n",
    "\n",
    "function urlElement(parent_url, name_url) {\n",
    "  let url = \"https://\" + org_shp_url;\n",
    "  const path =\n",
    "    \"/personal/\" + personal_org_shp_url + \"/_layouts/15/onedrive.aspx\";\n",
    "  url += path;\n",
    "\n",
    "  let params = \"?\";\n",
    "  params += \"ga=1&\";\n",
    "  params += \"id=\";\n",
    "  params += encodeURI(\n",
    "    \"/personal/\" + personal_org_shp_url + \"/Documents/\" + bibl_name + \"/\"\n",
    "  );\n",
    "  params += parent_url;\n",
    "  params += encodeURI(\"/\");\n",
    "  params += name_url;\n",
    "  params += \"&\";\n",
    "  params += \"parent=\";\n",
    "  params += encodeURI(\n",
    "    \"/personal/\" + personal_org_shp_url + \"/Documents/\" + bibl_name + \"/\"\n",
    "  );\n",
    "  params += parent_url;\n",
    "  console.log(params);\n",
    "\n",
    "  url += params;\n",
    "  return url;\n",
    "}\n",
    "\n",
    "const elementBiblPath =\n",
    "  \"001 🪲 Philosophy T/1 🏂 Bright Personalities T/1883 - Yaspers Karl T/Введение в философию (Ясперс Карл.).pdf\";\n",
    "const name_url =\n",
    "  \"%D0%92%D0%B2%D0%B5%D0%B4%D0%B5%D0%BD%D0%B8%D0%B5+%D0%B2+%D1%84%D0%B8%D0%BB%D0%BE%D1%81%D0%BE%D1%84%D0%B8%D1%8E+%28%D0%AF%D1%81%D0%BF%D0%B5%D1%80%D1%81+%D0%9A%D0%B0%D1%80%D0%BB.%29.pdf\";\n",
    "console.log(\"name_url: \" + name_url);\n",
    "const parent_url =\n",
    "  \"001+%F0%9F%AA%B2+Philosophy+T%2F1+%F0%9F%8F%82+Bright+Personalities+T%2F1883+-+Yaspers+Karl+T\";\n",
    "\n",
    "const out = urlElement(parent_url, name_url);\n",
    "console.log(\"Out: \" + out);\n",
    "\n",
    "/*\n",
    "element_parent = '/'.join(element_bibl_path.split('/')[:-1])\n",
    "    query = urllib.parse.urlencode({\n",
    "        'ga': '1',\n",
    "        'id': f'/personal/{sharepoint_org_personal_url}/Documents/{sharepoint_bibl_name}/{element_bibl_path}',\n",
    "        'parent': f'/personal/{sharepoint_org_personal_url}/Documents/{sharepoint_bibl_name}/{element_parent}',\n",
    "    })\n",
    "    \n",
    "    return urllib.parse.urlunsplit([\n",
    "        'https',\n",
    "        sharepoint_org_url,\n",
    "        f'/personal/{sharepoint_org_personal_url}/_layouts/15/onedrive.aspx',\n",
    "        query,\n",
    "        ''])\n",
    "*/\n"
   ]
  },
  {
   "cell_type": "code",
   "execution_count": null,
   "id": "2cc4fb74",
   "metadata": {},
   "outputs": [],
   "source": []
  },
  {
   "cell_type": "code",
   "execution_count": null,
   "id": "602e8a47",
   "metadata": {},
   "outputs": [],
   "source": []
  },
  {
   "cell_type": "code",
   "execution_count": null,
   "id": "8cd8ebbd",
   "metadata": {},
   "outputs": [],
   "source": []
  },
  {
   "cell_type": "code",
   "execution_count": 170,
   "id": "81e6d79c",
   "metadata": {},
   "outputs": [],
   "source": [
    "# Dir"
   ]
  },
  {
   "cell_type": "code",
   "execution_count": 173,
   "id": "dde7c6cd",
   "metadata": {},
   "outputs": [
    {
     "name": "stdout",
     "output_type": "stream",
     "text": [
      "https:/\n",
      "/\n",
      "internatmsu-my.sharepoint.com/\n",
      "personal/\n",
      "andreylevin_office_internat_msu_ru/\n",
      "_layouts/\n",
      "15/\n",
      "onedrive.aspx?ga=1&id=/\n",
      "personal/\n",
      "andreylevin_office_internat_msu_ru/\n",
      "Documents/\n",
      "biblioteka-sample/\n",
      "001 🪲 Philosophy T/\n",
      "1 🏂 Bright Personalities T/\n",
      "1883 - Yaspers Karl T\n"
     ]
    }
   ],
   "source": [
    "dir_path = 'https://internatmsu-my.sharepoint.com/personal/andreylevin_office_internat_msu_ru/_layouts/15/onedrive.aspx?ga=1&id=%2Fpersonal%2Fandreylevin%5Foffice%5Finternat%5Fmsu%5Fru%2FDocuments%2Fbiblioteka%2Dsample%2F001%20%F0%9F%AA%B2%20Philosophy%20T%2F1%20%F0%9F%8F%82%20Bright%20Personalities%20T%2F1883%20%2D%20Yaspers%20Karl%20T'\n",
    "\n",
    "dir_path = urllib.parse.unquote_plus(dir_path)\n",
    "print(dir_path.replace('/','/\\n'))\n",
    "\n"
   ]
  },
  {
   "cell_type": "code",
   "execution_count": null,
   "id": "98370a53",
   "metadata": {},
   "outputs": [],
   "source": []
  },
  {
   "cell_type": "code",
   "execution_count": null,
   "id": "271fe17c",
   "metadata": {},
   "outputs": [],
   "source": []
  },
  {
   "cell_type": "code",
   "execution_count": null,
   "id": "9124ceed",
   "metadata": {},
   "outputs": [],
   "source": []
  },
  {
   "cell_type": "code",
   "execution_count": null,
   "id": "7084d664",
   "metadata": {},
   "outputs": [],
   "source": []
  },
  {
   "cell_type": "code",
   "execution_count": null,
   "id": "038a0cde",
   "metadata": {},
   "outputs": [],
   "source": []
  },
  {
   "cell_type": "code",
   "execution_count": null,
   "id": "fc137fd2",
   "metadata": {},
   "outputs": [],
   "source": []
  },
  {
   "cell_type": "code",
   "execution_count": null,
   "id": "247ebfaf",
   "metadata": {},
   "outputs": [],
   "source": []
  },
  {
   "cell_type": "code",
   "execution_count": null,
   "id": "905a3465",
   "metadata": {},
   "outputs": [],
   "source": []
  },
  {
   "cell_type": "code",
   "execution_count": null,
   "id": "1bafd415",
   "metadata": {},
   "outputs": [],
   "source": []
  },
  {
   "cell_type": "code",
   "execution_count": null,
   "id": "faf2b8bf",
   "metadata": {},
   "outputs": [],
   "source": []
  },
  {
   "cell_type": "code",
   "execution_count": null,
   "id": "deaf3c52",
   "metadata": {},
   "outputs": [],
   "source": []
  }
 ],
 "metadata": {
  "kernelspec": {
   "display_name": "Python 3 (ipykernel)",
   "language": "python",
   "name": "python3"
  },
  "language_info": {
   "codemirror_mode": {
    "name": "ipython",
    "version": 3
   },
   "file_extension": ".py",
   "mimetype": "text/x-python",
   "name": "python",
   "nbconvert_exporter": "python",
   "pygments_lexer": "ipython3",
   "version": "3.11.3"
  }
 },
 "nbformat": 4,
 "nbformat_minor": 5
}
