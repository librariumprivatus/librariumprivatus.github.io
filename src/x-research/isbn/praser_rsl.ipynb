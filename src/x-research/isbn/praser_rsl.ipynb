{
 "cells": [
  {
   "cell_type": "code",
   "execution_count": 1,
   "id": "13443887",
   "metadata": {},
   "outputs": [
    {
     "name": "stdout",
     "output_type": "stream",
     "text": [
      "link:  https://search.rsl.ru/ru/search#q=%D0%90%D1%80%D0%BD%D0%BE%D0%BB%D1%8C%D0%B4%2C%20%D0%92%D0%BB%D0%B0%D0%B4%D0%B8%D0%BC%D0%B8%D1%80%20%D0%98%D0%B3%D0%BE%D1%80%D0%B5%D0%B2%D0%B8%D1%87\n",
      "['https://search.rsl.ru/ru/record/01000647365', 'https://search.rsl.ru/ru/record/01001782987', 'https://search.rsl.ru/ru/record/01001448929', 'https://search.rsl.ru/ru/record/07000490966', 'https://search.rsl.ru/ru/record/07000490988', 'https://search.rsl.ru/ru/record/07000491074', 'https://search.rsl.ru/ru/record/07000490964', 'https://search.rsl.ru/ru/record/07000491780', 'https://search.rsl.ru/ru/record/07000490936', 'https://search.rsl.ru/ru/record/07000491149']\n"
     ]
    }
   ],
   "source": [
    "import parser_utils\n",
    "import parser_rsl_ru\n",
    "\n",
    "\n",
    "link = 'https://search.rsl.ru/ru/search#q=math'\n",
    "link = 'https://search.rsl.ru/ru/search#q=mat2876456%D0%BA74837234'\n",
    "link = 'https://search.rsl.ru/ru/search#q=%D0%90%D1%80%D0%BD%D0%BE%D0%BB%D1%8C%D0%B4%2C%20%D0%92%D0%BB%D0%B0%D0%B4%D0%B8%D0%BC%D0%B8%D1%80%20%D0%98%D0%B3%D0%BE%D1%80%D0%B5%D0%B2%D0%B8%D1%87'\n",
    "print('link: ', link)\n",
    "urls = parser_rsl_ru.search_records(link)\n",
    "print(urls)"
   ]
  },
  {
   "cell_type": "code",
   "execution_count": null,
   "id": "233ad8bc",
   "metadata": {
    "scrolled": true
   },
   "outputs": [],
   "source": []
  },
  {
   "cell_type": "code",
   "execution_count": 1,
   "id": "5971dbfb",
   "metadata": {
    "scrolled": true
   },
   "outputs": [
    {
     "name": "stdout",
     "output_type": "stream",
     "text": [
      "ISBN:  9785443920092\n",
      "['https://search.rsl.ru/ru/record/07000491780']\n"
     ]
    },
    {
     "name": "stderr",
     "output_type": "stream",
     "text": [
      "/Users/andrewlevin/Desktop/97🎿 Tools Of Biblioteka/39-File-Renamer/parser_rsl_ru.py:97: GuessedAtParserWarning: No parser was explicitly specified, so I'm using the best available HTML parser for this system (\"html.parser\"). This usually isn't a problem, but if you run this code on another system, or in a different virtual environment, it may use a different parser and behave differently.\n",
      "\n",
      "The code that caused this warning is on line 97 of the file /Users/andrewlevin/Desktop/97🎿 Tools Of Biblioteka/39-File-Renamer/parser_rsl_ru.py. To get rid of this warning, pass the additional argument 'features=\"html.parser\"' to the BeautifulSoup constructor.\n",
      "\n",
      "  key_soup = BeautifulSoup(key, 'html')\n"
     ]
    },
    {
     "name": "stdout",
     "output_type": "stream",
     "text": [
      "Key:  ldr\n",
      "value:  <strong>00874nam#a2200253#i#4500</strong>\n",
      "value:  []\n",
      "\n",
      "\n",
      "Key:  001\n",
      "value:  <strong>000491780</strong>\n",
      "value:  []\n",
      "\n",
      "\n",
      "Key:  005\n",
      "value:  <strong>20211229225916.0</strong>\n",
      "value:  []\n",
      "\n",
      "\n",
      "Key:  008\n",
      "value:  <strong>211228s2014####ru#||||#######0||#|#rus|d</strong>\n",
      "value:  []\n",
      "\n",
      "\n",
      "Key:  020\n",
      "value:  <strong>##</strong><br><strong>$a</strong>&nbsp;978-5-4439-2009-2\n",
      "value:  ['978-5-4439-2009-2']\n",
      "\n",
      "\n",
      "Key:  040\n",
      "value:  <strong>##</strong><br><strong>$a</strong>&nbsp;RuMoRGB<br><strong>$b</strong>&nbsp;rus<br><strong>$e</strong>&nbsp;rcr\n",
      "value:  ['RuMoRGB', 'rus', 'rcr']\n",
      "\n",
      "\n",
      "Key:  041\n",
      "value:  <strong>##</strong><br><strong>$a</strong>&nbsp;rus\n",
      "value:  ['rus']\n",
      "\n",
      "\n",
      "Key:  044\n",
      "value:  <strong>##</strong><br><strong>$a</strong>&nbsp;ru\n",
      "value:  ['ru']\n",
      "\n",
      "\n",
      "Key:  100\n",
      "value:  <strong>1#</strong><br><strong>$a</strong>&nbsp;Арнольд, Владимир Игоревич\n",
      "value:  ['Арнольд, Владимир Игоревич']\n",
      "\n",
      "\n",
      "Key:  245\n",
      "value:  <strong>00</strong><br><strong>$a</strong>&nbsp;Особенности дифференцируемых отображений\n",
      "value:  ['Особенности дифференцируемых отображений']\n",
      "\n",
      "\n",
      "Key:  260\n",
      "value:  <strong>##</strong><br><strong>$a</strong>&nbsp;Москва<br><strong>$b</strong>&nbsp;МЦНМО<br><strong>$c</strong>&nbsp;2014\n",
      "value:  ['Москва', 'МЦНМО', '2014']\n",
      "\n",
      "\n",
      "Key:  300\n",
      "value:  <strong>##</strong><br><strong>$a</strong>&nbsp;[671] с.\n",
      "value:  ['[671] с.']\n",
      "\n",
      "\n",
      "Key:  336\n",
      "value:  <strong>##</strong><br><strong>$a</strong>&nbsp;Текст (визуальный)\n",
      "value:  ['Текст (визуальный)']\n",
      "\n",
      "\n",
      "Key:  337\n",
      "value:  <strong>##</strong><br><strong>$a</strong>&nbsp;непосредственный\n",
      "value:  ['непосредственный']\n",
      "\n",
      "\n",
      "Key:  500\n",
      "value:  <strong>##</strong><br><strong>$a</strong>&nbsp;pdf_unchecked\n",
      "value:  ['pdf_unchecked']\n",
      "\n",
      "\n",
      "Key:  533\n",
      "value:  <strong>##</strong><br><strong>$n</strong>&nbsp;Договор с правообладателем б/н от 28.12.2021\n",
      "value:  ['Договор с правообладателем б/н от 28.12.2021']\n",
      "\n",
      "\n",
      "Key:  856\n",
      "value:  <strong>41</strong><br><strong>$q</strong>&nbsp;application/pdf<br><strong>$u</strong>&nbsp;http://dlib.rsl.ru/rsl07000000000/rsl07000491000/rsl07000491780/rsl07000491780.pdf\n",
      "value:  ['application/pdf', 'http://dlib.rsl.ru/rsl07000000000/rsl07000491000/rsl07000491780/rsl07000491780.pdf']\n",
      "\n",
      "\n",
      "Key:  979\n",
      "value:  <strong>##</strong><br><strong>$a</strong>&nbsp;dloek\n",
      "value:  ['dloek']\n",
      "\n",
      "\n",
      "Key:  979\n",
      "value:  <strong>##</strong><br><strong>$a</strong>&nbsp;dlright\n",
      "value:  ['dlright']\n",
      "\n",
      "\n",
      "Key:  979\n",
      "value:  <strong>##</strong><br><strong>$a</strong>&nbsp;factum\n",
      "value:  ['factum']\n",
      "\n",
      "\n",
      "Data {'ldr': [], '001': [], '005': [], '008': [], '020': ['978-5-4439-2009-2'], '040': ['RuMoRGB', 'rus', 'rcr'], '041': ['rus'], '044': ['ru'], '100': ['Арнольд, Владимир Игоревич'], '245': ['Особенности дифференцируемых отображений'], '260': ['Москва', 'МЦНМО', '2014'], '300': ['[671] с.'], '336': ['Текст (визуальный)'], '337': ['непосредственный'], '500': ['pdf_unchecked'], '533': ['Договор с правообладателем б/н от 28.12.2021'], '856': ['application/pdf', 'http://dlib.rsl.ru/rsl07000000000/rsl07000491000/rsl07000491780/rsl07000491780.pdf'], '979': ['factum']}\n",
      "data_new {'authors': ['Арнольд, Владимир Игоревич'], 'title': ['Особенности дифференцируемых отображений'], 'raw': {'ldr': [], '001': [], '005': [], '008': [], '020': ['978-5-4439-2009-2'], '040': ['RuMoRGB', 'rus', 'rcr'], '041': ['rus'], '044': ['ru'], '100': ['Арнольд, Владимир Игоревич'], '245': ['Особенности дифференцируемых отображений'], '260': ['Москва', 'МЦНМО', '2014'], '300': ['[671] с.'], '336': ['Текст (визуальный)'], '337': ['непосредственный'], '500': ['pdf_unchecked'], '533': ['Договор с правообладателем б/н от 28.12.2021'], '856': ['application/pdf', 'http://dlib.rsl.ru/rsl07000000000/rsl07000491000/rsl07000491780/rsl07000491780.pdf'], '979': ['factum']}}\n",
      "get_record_data {'authors': ['Арнольд, Владимир Игоревич'], 'title': ['Особенности дифференцируемых отображений'], 'raw': {'ldr': [], '001': [], '005': [], '008': [], '020': ['978-5-4439-2009-2'], '040': ['RuMoRGB', 'rus', 'rcr'], '041': ['rus'], '044': ['ru'], '100': ['Арнольд, Владимир Игоревич'], '245': ['Особенности дифференцируемых отображений'], '260': ['Москва', 'МЦНМО', '2014'], '300': ['[671] с.'], '336': ['Текст (визуальный)'], '337': ['непосредственный'], '500': ['pdf_unchecked'], '533': ['Договор с правообладателем б/н от 28.12.2021'], '856': ['application/pdf', 'http://dlib.rsl.ru/rsl07000000000/rsl07000491000/rsl07000491780/rsl07000491780.pdf'], '979': ['factum']}}\n"
     ]
    }
   ],
   "source": [
    "import parser_utils\n",
    "import parser_rsl_ru\n",
    "\n",
    "def search_by_isbn_on_rsl_ru(isbn):\n",
    "    url = f'https://search.rsl.ru/ru/search#q=isbn%3A{isbn}'\n",
    "    \n",
    "    urls = parser_rsl_ru.search_records(url)\n",
    "    if not urls:\n",
    "        return None\n",
    "    print(urls)\n",
    "    \n",
    "    \n",
    "    data = parser_rsl_ru.get_record_data(urls[0]) \n",
    "    return data\n",
    "\n",
    "\n",
    "def search_by_isbn(isbn):\n",
    "    data = search_by_isbn_on_rsl_ru(isbn)\n",
    "    \n",
    "\n",
    "    \n",
    "ISBN = '9785443920092'\n",
    "\n",
    "print('ISBN: ', ISBN)\n",
    "data = search_by_isbn(ISBN)"
   ]
  },
  {
   "cell_type": "code",
   "execution_count": null,
   "id": "8188971e",
   "metadata": {},
   "outputs": [],
   "source": []
  },
  {
   "cell_type": "code",
   "execution_count": null,
   "id": "9de75f42",
   "metadata": {},
   "outputs": [],
   "source": []
  },
  {
   "cell_type": "code",
   "execution_count": null,
   "id": "46f2ed45",
   "metadata": {},
   "outputs": [],
   "source": []
  },
  {
   "cell_type": "code",
   "execution_count": null,
   "id": "eaed7963",
   "metadata": {},
   "outputs": [],
   "source": []
  },
  {
   "cell_type": "code",
   "execution_count": null,
   "id": "846e70a1",
   "metadata": {},
   "outputs": [],
   "source": []
  }
 ],
 "metadata": {
  "kernelspec": {
   "display_name": "Python 3 (ipykernel)",
   "language": "python",
   "name": "python3"
  },
  "language_info": {
   "codemirror_mode": {
    "name": "ipython",
    "version": 3
   },
   "file_extension": ".py",
   "mimetype": "text/x-python",
   "name": "python",
   "nbconvert_exporter": "python",
   "pygments_lexer": "ipython3",
   "version": "3.11.2"
  }
 },
 "nbformat": 4,
 "nbformat_minor": 5
}
