{
 "cells": [
  {
   "cell_type": "code",
   "execution_count": null,
   "id": "a10cec99",
   "metadata": {},
   "outputs": [],
   "source": [
    "import logging\n",
    "\n",
    "logging.basicConfig(\n",
    "    filename='thumb-creation.log',\n",
    "    level=logging.DEBUG,\n",
    "    format='%(levelname)s: %(message)s ---- %(asctime)s'\n",
    ")\n",
    "\n",
    "\n",
    "logging.info('Started 2')\n",
    "logging.info('Finished')\n",
    "logging.debug('This message should appear on the console')\n",
    "logging.info('So should this')\n",
    "logging.warning('And this, too')\n"
   ]
  }
 ],
 "metadata": {
  "kernelspec": {
   "display_name": "Python 3 (ipykernel)",
   "language": "python",
   "name": "python3"
  },
  "language_info": {
   "codemirror_mode": {
    "name": "ipython",
    "version": 3
   },
   "file_extension": ".py",
   "mimetype": "text/x-python",
   "name": "python",
   "nbconvert_exporter": "python",
   "pygments_lexer": "ipython3",
   "version": "3.11.3"
  }
 },
 "nbformat": 4,
 "nbformat_minor": 5
}
