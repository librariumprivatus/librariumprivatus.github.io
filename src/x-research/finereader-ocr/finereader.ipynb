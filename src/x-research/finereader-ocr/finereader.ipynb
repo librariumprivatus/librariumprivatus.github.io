{
 "cells": [
  {
   "cell_type": "code",
   "execution_count": null,
   "id": "756ce3ca",
   "metadata": {},
   "outputs": [],
   "source": [
    "\n",
    "# osascript osascript-finereader-mac.scpt /Users/andrewlevin/Desktop/OCR-image/ocrmaker/example/img_0459.jpg /Users/andrewlevin/Desktop/OCR-image/ocrmaker/example/pdf_img_0459.pdf\n",
    "\n",
    "\n",
    "\n",
    "osascript run-finereader-application-osascript.scpt '/Users/andrewlevin/Desktop/97🎿 Tools Of Biblioteka/39-File-Renamer/finereader-sample/losev.pdf' '/Users/andrewlevin/Desktop/97🎿 Tools Of Biblioteka/39-File-Renamer/finereader-sample/losev-out.pdf'\n",
    "\n",
    "\n"
   ]
  }
 ],
 "metadata": {
  "kernelspec": {
   "display_name": "Python 3 (ipykernel)",
   "language": "python",
   "name": "python3"
  },
  "language_info": {
   "codemirror_mode": {
    "name": "ipython",
    "version": 3
   },
   "file_extension": ".py",
   "mimetype": "text/x-python",
   "name": "python",
   "nbconvert_exporter": "python",
   "pygments_lexer": "ipython3",
   "version": "3.11.2"
  }
 },
 "nbformat": 4,
 "nbformat_minor": 5
}
