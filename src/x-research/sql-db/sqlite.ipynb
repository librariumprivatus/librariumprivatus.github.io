{
 "cells": [
  {
   "cell_type": "code",
   "execution_count": 1,
   "metadata": {
    "pycharm": {
     "is_executing": true
    }
   },
   "outputs": [],
   "source": [
    "import pathlib\n",
    "\n",
    "root = pathlib.Path('/Users/andrewlevin/Desktop/97🎿 Tools Of Biblioteka/39-File-Renamer')\n"
   ]
  },
  {
   "cell_type": "code",
   "execution_count": 6,
   "metadata": {},
   "outputs": [],
   "source": [
    "from sqlalchemy import Column\n",
    "from sqlalchemy import ForeignKey\n",
    "from sqlalchemy import Integer\n",
    "from sqlalchemy import String\n",
    "from sqlalchemy.orm import declarative_base\n",
    "from sqlalchemy.orm import relationship\n",
    "\n",
    "Base = declarative_base()\n",
    "\n",
    "    \n",
    "class Book(Base):\n",
    "    __tablename__ = \"book\"\n",
    "\n",
    "    id = Column(Integer, primary_key=True)\n",
    "    filename = Column(String(255), nullable=True)\n",
    "    \n",
    "    isbns = Column(String(255), nullable=True, default=\"\")\n",
    "    \n",
    "    def __repr__(self):\n",
    "        return f\"Book(id={self.id!r}, filename={self.filename!r}, isbns={self.isbns!r})\"\n"
   ]
  },
  {
   "cell_type": "code",
   "execution_count": 7,
   "metadata": {},
   "outputs": [
    {
     "name": "stdout",
     "output_type": "stream",
     "text": [
      "2023-03-20 19:43:13,882 INFO sqlalchemy.engine.Engine BEGIN (implicit)\n",
      "2023-03-20 19:43:13,885 INFO sqlalchemy.engine.Engine PRAGMA main.table_info(\"book\")\n",
      "2023-03-20 19:43:13,886 INFO sqlalchemy.engine.Engine [raw sql] ()\n",
      "2023-03-20 19:43:13,888 INFO sqlalchemy.engine.Engine COMMIT\n"
     ]
    }
   ],
   "source": [
    "from sqlalchemy import create_engine\n",
    "engine = create_engine(\"sqlite:///book.sqlite\", echo=True, future=True)\n",
    "Base.metadata.create_all(engine)"
   ]
  },
  {
   "cell_type": "code",
   "execution_count": 11,
   "metadata": {},
   "outputs": [
    {
     "name": "stdout",
     "output_type": "stream",
     "text": [
      "2023-03-20 19:44:36,437 INFO sqlalchemy.engine.Engine BEGIN (implicit)\n",
      "2023-03-20 19:44:36,445 INFO sqlalchemy.engine.Engine INSERT INTO book (filename, isbns) VALUES (?, ?)\n",
      "2023-03-20 19:44:36,447 INFO sqlalchemy.engine.Engine [generated in 0.00236s] ('book0.pdf', 'isbn-0')\n",
      "2023-03-20 19:44:36,449 INFO sqlalchemy.engine.Engine INSERT INTO book (filename, isbns) VALUES (?, ?)\n",
      "2023-03-20 19:44:36,451 INFO sqlalchemy.engine.Engine [generated in 0.00123s] ('book1.pdf', '')\n",
      "2023-03-20 19:44:36,452 INFO sqlalchemy.engine.Engine COMMIT\n"
     ]
    }
   ],
   "source": [
    "from sqlalchemy.orm import Session\n",
    "\n",
    "with Session(engine) as session:\n",
    "    \n",
    "    book0 = Book(\n",
    "        filename=\"book0.pdf\",\n",
    "        isbns=\"isbn-0\",\n",
    "    )\n",
    "    \n",
    "    book1 = Book(\n",
    "        filename=\"book1.pdf\",\n",
    "    )\n",
    "    \n",
    "    \n",
    "    session.add_all([book0, book1])\n",
    "    session.commit()"
   ]
  },
  {
   "cell_type": "code",
   "execution_count": 12,
   "metadata": {},
   "outputs": [
    {
     "name": "stdout",
     "output_type": "stream",
     "text": [
      "2023-03-20 19:45:59,189 INFO sqlalchemy.engine.Engine BEGIN (implicit)\n",
      "2023-03-20 19:45:59,191 INFO sqlalchemy.engine.Engine INSERT INTO book (filename, isbns) VALUES (?, ?)\n",
      "2023-03-20 19:45:59,192 INFO sqlalchemy.engine.Engine [cached since 82.75s ago] ('book3.pdf', 'isbn-3')\n",
      "2023-03-20 19:45:59,193 INFO sqlalchemy.engine.Engine INSERT INTO book (filename, isbns) VALUES (?, ?)\n",
      "2023-03-20 19:45:59,193 INFO sqlalchemy.engine.Engine [cached since 82.74s ago] ('book4.pdf', '')\n",
      "2023-03-20 19:45:59,194 INFO sqlalchemy.engine.Engine COMMIT\n"
     ]
    }
   ],
   "source": [
    "from sqlalchemy.orm import Session\n",
    "\n",
    "with Session(engine) as session:\n",
    "    \n",
    "    book3 = Book(\n",
    "        filename=\"book3.pdf\",\n",
    "        isbns=\"isbn-3\",\n",
    "    )\n",
    "    \n",
    "    book4 = Book(\n",
    "        filename=\"book4.pdf\",\n",
    "    )\n",
    "    \n",
    "    \n",
    "    session.add_all([book3, book4])\n",
    "    session.commit()"
   ]
  },
  {
   "cell_type": "code",
   "execution_count": null,
   "metadata": {},
   "outputs": [],
   "source": []
  },
  {
   "cell_type": "code",
   "execution_count": null,
   "metadata": {},
   "outputs": [],
   "source": []
  },
  {
   "cell_type": "code",
   "execution_count": null,
   "metadata": {},
   "outputs": [],
   "source": []
  },
  {
   "cell_type": "code",
   "execution_count": 13,
   "metadata": {},
   "outputs": [],
   "source": [
    "# SELECT\n",
    "from sqlalchemy import create_engine\n",
    "engine = create_engine(\"sqlite:///book.sqlite\", echo=True, future=True)"
   ]
  },
  {
   "cell_type": "code",
   "execution_count": 16,
   "metadata": {},
   "outputs": [
    {
     "name": "stdout",
     "output_type": "stream",
     "text": [
      "2023-03-20 19:51:10,486 INFO sqlalchemy.engine.Engine BEGIN (implicit)\n",
      "2023-03-20 19:51:10,488 INFO sqlalchemy.engine.Engine SELECT book.id, book.filename, book.isbns \n",
      "FROM book\n",
      "2023-03-20 19:51:10,490 INFO sqlalchemy.engine.Engine [cached since 25.98s ago] ()\n",
      "Book(id=1, filename='book0.pdf', isbns='isbn-0')\n",
      "Book(id=2, filename='book1.pdf', isbns='')\n",
      "Book(id=3, filename='book3.pdf', isbns='isbn-3')\n",
      "Book(id=4, filename='book4.pdf', isbns='')\n"
     ]
    }
   ],
   "source": [
    "from sqlalchemy import select\n",
    "\n",
    "session = Session(engine)\n",
    "\n",
    "books = select(Book)\n",
    "\n",
    "for book in session.scalars(books):\n",
    "    print(book)"
   ]
  },
  {
   "cell_type": "code",
   "execution_count": null,
   "metadata": {},
   "outputs": [],
   "source": []
  },
  {
   "cell_type": "code",
   "execution_count": 17,
   "metadata": {},
   "outputs": [],
   "source": [
    "\n"
   ]
  },
  {
   "cell_type": "code",
   "execution_count": null,
   "metadata": {},
   "outputs": [],
   "source": []
  },
  {
   "cell_type": "code",
   "execution_count": null,
   "metadata": {},
   "outputs": [],
   "source": []
  },
  {
   "cell_type": "code",
   "execution_count": null,
   "metadata": {},
   "outputs": [],
   "source": []
  },
  {
   "cell_type": "code",
   "execution_count": null,
   "metadata": {},
   "outputs": [],
   "source": []
  },
  {
   "cell_type": "code",
   "execution_count": null,
   "metadata": {},
   "outputs": [],
   "source": []
  },
  {
   "cell_type": "code",
   "execution_count": null,
   "metadata": {},
   "outputs": [],
   "source": []
  },
  {
   "cell_type": "code",
   "execution_count": null,
   "metadata": {},
   "outputs": [],
   "source": []
  },
  {
   "cell_type": "code",
   "execution_count": null,
   "metadata": {},
   "outputs": [],
   "source": []
  }
 ],
 "metadata": {
  "kernelspec": {
   "display_name": "Python 3 (ipykernel)",
   "language": "python",
   "name": "python3"
  },
  "language_info": {
   "codemirror_mode": {
    "name": "ipython",
    "version": 3
   },
   "file_extension": ".py",
   "mimetype": "text/x-python",
   "name": "python",
   "nbconvert_exporter": "python",
   "pygments_lexer": "ipython3",
   "version": "3.11.2"
  }
 },
 "nbformat": 4,
 "nbformat_minor": 1
}
