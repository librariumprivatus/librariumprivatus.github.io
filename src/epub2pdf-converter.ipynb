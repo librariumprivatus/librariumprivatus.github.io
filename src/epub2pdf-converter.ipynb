{
 "cells": [
  {
   "cell_type": "code",
   "execution_count": 3,
   "id": "ed839f08",
   "metadata": {},
   "outputs": [],
   "source": [
    "import utils\n",
    "import pathlib"
   ]
  },
  {
   "cell_type": "code",
   "execution_count": 6,
   "id": "1f1ed03b",
   "metadata": {},
   "outputs": [],
   "source": [
    "sample_epubs = pathlib.Path('x-research/epub2pdf-converter/samples-epub/')\n",
    "\n",
    "epubs = utils.walk_files(sample_epubs)\n",
    "\n",
    "output_pdfs_dir = pathlib.Path('x-research/epub2pdf-converter/output-pdfs/')"
   ]
  },
  {
   "cell_type": "code",
   "execution_count": 7,
   "id": "951b3edd",
   "metadata": {},
   "outputs": [
    {
     "name": "stdout",
     "output_type": "stream",
     "text": [
      "[PosixPath('x-research/epub2pdf-converter/samples-epub/О Чудесах. С комментариями и объяснениями (Джон Локк).epub'), PosixPath('x-research/epub2pdf-converter/samples-epub/A Dictionary of Symbols (Cirlot J. E).epub'), PosixPath('x-research/epub2pdf-converter/samples-epub/Лекции о литературе Диалог эпох Евг.epub'), PosixPath('x-research/epub2pdf-converter/samples-epub/Political Ideologies An Introduction.epub'), PosixPath('x-research/epub2pdf-converter/samples-epub/Лекции о зарубежной литературе От Го.epub'), PosixPath('x-research/epub2pdf-converter/samples-epub/Как творить историю Стивен Фрай Фр.epub'), PosixPath('x-research/epub2pdf-converter/samples-epub/Symbols Signs and Signets (Ernst Leh.epub'), PosixPath('x-research/epub2pdf-converter/samples-epub/ХX век проработка прошлого Практики.epub'), PosixPath('x-research/epub2pdf-converter/samples-epub/Между прошлым и будущим Восемь упраж.epub')]\n"
     ]
    }
   ],
   "source": [
    "print(epubs)"
   ]
  },
  {
   "cell_type": "code",
   "execution_count": 9,
   "id": "ffd71a47",
   "metadata": {
    "scrolled": false
   },
   "outputs": [
    {
     "name": "stdout",
     "output_type": "stream",
     "text": [
      "🍿 ['pandoc', '-V', 'mainfont=\"CMU Sans Serif:style=Medium\"', '-f', 'epub', '-t', 'latex', '-o', '/Users/andrewlevin/Desktop/1-LIBRARIUM-PRIVATUS/librariumprivatus.github.io/src/x-research/epub2pdf-converter/output-pdfs/О Чудесах. С комментариями и объяснениями (Джон Локк).epub.pdf', '-V', 'fontenc=T2A', '/Users/andrewlevin/Desktop/1-LIBRARIUM-PRIVATUS/librariumprivatus.github.io/src/x-research/epub2pdf-converter/samples-epub/О Чудесах. С комментариями и объяснениями (Джон Локк).epub']\n",
      "\n"
     ]
    },
    {
     "name": "stderr",
     "output_type": "stream",
     "text": [
      "\n",
      "kpathsea: Running mktextfm larm1440\n",
      "mktextfm: Running mf-nowin -progname=mf \\mode:=ljfour; mag:=1; ; nonstopmode; input larm1440\n",
      "This is METAFONT, Version 2.71828182 (TeX Live 2021) (preloaded base=mf)\n",
      "\n",
      "kpathsea: Running mktexmf larm1440\n",
      "mf: /Users/andrewlevin/Library/texlive/2021/texmf-var/fonts/source/lh/lh-t2a/larm1440.mf: successfully generated.\n",
      "\n",
      "\n",
      "(/Users/andrewlevin/Library/texlive/2021/texmf-var/fonts/source/lh/lh-t2a/larm1\n",
      "440.mf (/usr/local/texlive/2021/texmf-dist/fonts/source/lh/base/fikparm.mf\n",
      "(/usr/local/texlive/2021/texmf-dist/fonts/source/public/cm/cmbase.mf)\n",
      "(/usr/local/texlive/2021/texmf-dist/fonts/source/lh/base/lcyrbeg.mf)\n",
      "(/usr/local/texlive/2021/texmf-dist/fonts/source/lh/base/lkligtbl.mf)\n",
      ">> 14.4\n",
      ">> \"input ecrm\"\n",
      "(/usr/local/texlive/2021/texmf-dist/fonts/source/jknappen/ec/ecrm.mf)\n",
      "(/usr/local/texlive/2021/texmf-dist/fonts/source/lh/lh-t2a/lacodes.mf)\n",
      "(/usr/local/texlive/2021/texmf-dist/fonts/source/lh/base/lcyrdefs.mf)\n",
      "(/usr/local/texlive/2021/texmf-dist/fonts/source/lh/base/leroman.mf\n",
      "(/usr/local/texlive/2021/texmf-dist/fonts/source/lh/base/lxpseudo.mf)\n",
      "(/usr/local/texlive/2021/texmf-dist/fonts/source/jknappen/ec/exrulett.mf\n",
      "[65] [66] [67] [68] [69] [70] [71] [72] [73] [74] [75] [76] [77] [78] [79]\n",
      "[80] [81] [82] [83] [84] [85] [86] [87] [88] [89] [90])\n",
      "(/usr/local/texlive/2021/texmf-dist/fonts/source/jknappen/ec/exrllett.mf\n",
      "[97] [98] [99] [100] [101] [102] [103] [104] [105] [106] [107] [108] [109]\n",
      "[110] [111] [112] [113] [114] [115] [116] [117] [118] [119] [120] [121]\n",
      "[122]) (/usr/local/texlive/2021/texmf-dist/fonts/source/lh/base/lgcyru.mf\n",
      "(/usr/local/texlive/2021/texmf-dist/fonts/source/lh/base/lgrusu.mf [192]\n",
      "[193] [194] [195] [196] [197] [198] [199] [200] [201] [202] [203] [204]\n",
      "[205] [206] [207] [208] [209] [210] [211] [212] [213] [214] [215] [216]\n",
      "[217] [218] [219] [220] [221] [222] [223] [156])\n",
      "(/usr/local/texlive/2021/texmf-dist/fonts/source/lh/base/lgt2comu.mf [131]\n",
      "[130] [136] [135] [155] [143] [150] [128] [142] [144] [146] [153])\n",
      "(/usr/local/texlive/2021/texmf-dist/fonts/source/lh/base/lgt2upu.mf [129]\n",
      "[132] [133] [134] [137] [138] [141] [145] [147] [148] [149] [152] [154])\n",
      "(/usr/local/texlive/2021/texmf-dist/fonts/source/lh/base/lgt2lou.mf [140]\n",
      "[139] [151]))\n",
      "(/usr/local/texlive/2021/texmf-dist/fonts/source/lh/base/lgcyrl.mf\n",
      "(/usr/local/texlive/2021/texmf-dist/fonts/source/lh/base/lgrusl.mf [224]\n",
      "[225] [226] [227] [228] [229] [230] [231] [232] [233] [234] [235] [236]\n",
      "[237] [238] [239] [240] [241] [242] [243] [244] [245] [246] [247] [248]\n",
      "[249] [250] [251] [252] [253] [254] [255] [188])\n",
      "(/usr/local/texlive/2021/texmf-dist/fonts/source/lh/base/lgt2coml.mf [163]\n",
      "[162] [167] [187] [175] [182] [160] [168] [174] [176] [178] [185])\n",
      "(/usr/local/texlive/2021/texmf-dist/fonts/source/lh/base/lgt2upl.mf [161]\n",
      "[164] [165] [166] [169] [170] [173] [177] [179] [180] [181] [184] [186])\n",
      "(/usr/local/texlive/2021/texmf-dist/fonts/source/lh/base/lgt2lol.mf [172]\n",
      "[171] [183]))\n",
      "(/usr/local/texlive/2021/texmf-dist/fonts/source/lh/base/lgcyrsym.mf [13]\n",
      "[14] [15] [22] [24] [23] [34] [157] [158] [159] [189] [190] [191])\n",
      "(/usr/local/texlive/2021/texmf-dist/fonts/source/lh/base/lgengsym.mf [16]\n",
      "[17] [21] [32] [33] [35] [36] [37] [39] [40] [41] [42] [43] [44] [45] [46]\n",
      "[47] [58] [59] [60] [62] [61] [64] [91] [92] [93] [94] [95] [96] [123] [124]\n",
      "[125] [126] [127])\n",
      "(/usr/local/texlive/2021/texmf-dist/fonts/source/lh/base/lgromp.mf [38]\n",
      "[63]) (/usr/local/texlive/2021/texmf-dist/fonts/source/lh/base/lgrdigit.mf\n",
      "[48] [49] [50] [51] [52] [53] [54] [55] [56] [57])\n",
      "(/usr/local/texlive/2021/texmf-dist/fonts/source/lh/base/lgrlig.mf [25]\n",
      "[26] [28] [27] [29] [30] [31])\n",
      "(/usr/local/texlive/2021/texmf-dist/fonts/source/lh/base/lgcyracc.mf [0]\n",
      "[1] [2] [3] [4] [5] [6] [7] [8] [9] [10] [11] [12] [19] [20] [18])\n",
      "(/usr/local/texlive/2021/texmf-dist/fonts/source/lh/base/llvligtb.mf)\n",
      "(/usr/local/texlive/2021/texmf-dist/fonts/source/lh/base/llrligtb.mf)\n",
      "(/usr/local/texlive/2021/texmf-dist/fonts/source/lh/lh-t2a/laliker.mf) ) ) )\n",
      "(some charht values had to be adjusted by as much as 0.07544pt)\n",
      "Font metrics written on larm1440.tfm.\n",
      "Output written on larm1440.600gf (256 characters, 69804 bytes).\n",
      "Transcript written on larm1440.log.\n",
      "mktextfm: /Users/andrewlevin/Library/texlive/2021/texmf-var/fonts/tfm/lh/lh-t2a/larm1440.tfm: successfully generated.\n",
      "Error producing PDF.\n",
      "! Package inputenc Error: Unicode character κ (U+03BA)\n",
      "(inputenc)                not set up for use with LaTeX.\n",
      "\n",
      "See the inputenc package documentation for explanation.\n",
      "Type  H <return>  for immediate help.\n",
      " ...                                              \n",
      "                                                  \n",
      "l.3995 ...е первичные понятия, κ\n",
      "\n",
      "Try running pandoc with --pdf-engine=xelatex.\n"
     ]
    },
    {
     "name": "stdout",
     "output_type": "stream",
     "text": [
      "Result:  43\n",
      "\n",
      "🍿 ['pandoc', '-V', 'mainfont=\"CMU Sans Serif:style=Medium\"', '-f', 'epub', '-t', 'latex', '-o', '/Users/andrewlevin/Desktop/1-LIBRARIUM-PRIVATUS/librariumprivatus.github.io/src/x-research/epub2pdf-converter/output-pdfs/A Dictionary of Symbols (Cirlot J. E).epub.pdf', '-V', 'fontenc=T2A', '/Users/andrewlevin/Desktop/1-LIBRARIUM-PRIVATUS/librariumprivatus.github.io/src/x-research/epub2pdf-converter/samples-epub/A Dictionary of Symbols (Cirlot J. E).epub']\n",
      "\n"
     ]
    },
    {
     "name": "stderr",
     "output_type": "stream",
     "text": [
      "Error producing PDF.\n",
      "! Package inputenc Error: Unicode character ′ (U+2032)\n",
      "(inputenc)                not set up for use with LaTeX.\n",
      "\n",
      "See the inputenc package documentation for explanation.\n",
      "Type  H <return>  for immediate help.\n",
      " ...                                              \n",
      "                                                  \n",
      "l.149 302.2′\n",
      "\n",
      "Try running pandoc with --pdf-engine=xelatex.\n"
     ]
    },
    {
     "name": "stdout",
     "output_type": "stream",
     "text": [
      "Result:  43\n",
      "\n",
      "🍿 ['pandoc', '-V', 'mainfont=\"CMU Sans Serif:style=Medium\"', '-f', 'epub', '-t', 'latex', '-o', '/Users/andrewlevin/Desktop/1-LIBRARIUM-PRIVATUS/librariumprivatus.github.io/src/x-research/epub2pdf-converter/output-pdfs/Лекции о литературе Диалог эпох Евг.epub.pdf', '-V', 'fontenc=T2A', '/Users/andrewlevin/Desktop/1-LIBRARIUM-PRIVATUS/librariumprivatus.github.io/src/x-research/epub2pdf-converter/samples-epub/Лекции о литературе Диалог эпох Евг.epub']\n",
      "\n"
     ]
    },
    {
     "name": "stderr",
     "output_type": "stream",
     "text": [
      "Error producing PDF.\n",
      "! Package inputenc Error: Unicode character ἀ (U+1F00)\n",
      "(inputenc)                not set up for use with LaTeX.\n",
      "\n",
      "See the inputenc package documentation for explanation.\n",
      "Type  H <return>  for immediate help.\n",
      " ...                                              \n",
      "                                                  \n",
      "l.552 ...�ому определению это ἀ\n",
      "\n",
      "Try running pandoc with --pdf-engine=xelatex.\n"
     ]
    },
    {
     "name": "stdout",
     "output_type": "stream",
     "text": [
      "Result:  43\n",
      "\n",
      "🍿 ['pandoc', '-V', 'mainfont=\"CMU Sans Serif:style=Medium\"', '-f', 'epub', '-t', 'latex', '-o', '/Users/andrewlevin/Desktop/1-LIBRARIUM-PRIVATUS/librariumprivatus.github.io/src/x-research/epub2pdf-converter/output-pdfs/Political Ideologies An Introduction.epub.pdf', '-V', 'fontenc=T2A', '/Users/andrewlevin/Desktop/1-LIBRARIUM-PRIVATUS/librariumprivatus.github.io/src/x-research/epub2pdf-converter/samples-epub/Political Ideologies An Introduction.epub']\n",
      "\n"
     ]
    },
    {
     "ename": "KeyboardInterrupt",
     "evalue": "",
     "output_type": "error",
     "traceback": [
      "\u001b[0;31m---------------------------------------------------------------------------\u001b[0m",
      "\u001b[0;31mKeyboardInterrupt\u001b[0m                         Traceback (most recent call last)",
      "Cell \u001b[0;32mIn[9], line 36\u001b[0m\n\u001b[1;32m     34\u001b[0m \u001b[38;5;28;01mfor\u001b[39;00m epub \u001b[38;5;129;01min\u001b[39;00m epubs:\n\u001b[1;32m     35\u001b[0m     out \u001b[38;5;241m=\u001b[39m output_pdfs_dir\u001b[38;5;241m.\u001b[39mjoinpath(epub\u001b[38;5;241m.\u001b[39mname \u001b[38;5;241m+\u001b[39m \u001b[38;5;124m'\u001b[39m\u001b[38;5;124m.pdf\u001b[39m\u001b[38;5;124m'\u001b[39m)\n\u001b[0;32m---> 36\u001b[0m     \u001b[43mconvert_epub2pdf\u001b[49m\u001b[43m(\u001b[49m\u001b[43mepub\u001b[49m\u001b[43m,\u001b[49m\u001b[43m \u001b[49m\u001b[43mout\u001b[49m\u001b[43m)\u001b[49m\n",
      "Cell \u001b[0;32mIn[9], line 21\u001b[0m, in \u001b[0;36mconvert_epub2pdf\u001b[0;34m(path, output)\u001b[0m\n\u001b[1;32m     18\u001b[0m \u001b[38;5;28mprint\u001b[39m()\n\u001b[1;32m     20\u001b[0m \u001b[38;5;28;01mtry\u001b[39;00m:\n\u001b[0;32m---> 21\u001b[0m     result \u001b[38;5;241m=\u001b[39m \u001b[43msubprocess\u001b[49m\u001b[38;5;241;43m.\u001b[39;49m\u001b[43mcall\u001b[49m\u001b[43m(\u001b[49m\u001b[43mcommand\u001b[49m\u001b[43m)\u001b[49m\n\u001b[1;32m     22\u001b[0m \u001b[38;5;28;01mexcept\u001b[39;00m \u001b[38;5;167;01mException\u001b[39;00m \u001b[38;5;28;01mas\u001b[39;00m e:\n\u001b[1;32m     23\u001b[0m     \u001b[38;5;28mprint\u001b[39m(\u001b[38;5;124m'\u001b[39m\u001b[38;5;124mErr:\u001b[39m\u001b[38;5;124m'\u001b[39m, e)\n",
      "File \u001b[0;32m/opt/homebrew/Cellar/python@3.11/3.11.3/Frameworks/Python.framework/Versions/3.11/lib/python3.11/subprocess.py:391\u001b[0m, in \u001b[0;36mcall\u001b[0;34m(timeout, *popenargs, **kwargs)\u001b[0m\n\u001b[1;32m    389\u001b[0m \u001b[38;5;28;01mwith\u001b[39;00m Popen(\u001b[38;5;241m*\u001b[39mpopenargs, \u001b[38;5;241m*\u001b[39m\u001b[38;5;241m*\u001b[39mkwargs) \u001b[38;5;28;01mas\u001b[39;00m p:\n\u001b[1;32m    390\u001b[0m     \u001b[38;5;28;01mtry\u001b[39;00m:\n\u001b[0;32m--> 391\u001b[0m         \u001b[38;5;28;01mreturn\u001b[39;00m \u001b[43mp\u001b[49m\u001b[38;5;241;43m.\u001b[39;49m\u001b[43mwait\u001b[49m\u001b[43m(\u001b[49m\u001b[43mtimeout\u001b[49m\u001b[38;5;241;43m=\u001b[39;49m\u001b[43mtimeout\u001b[49m\u001b[43m)\u001b[49m\n\u001b[1;32m    392\u001b[0m     \u001b[38;5;28;01mexcept\u001b[39;00m:  \u001b[38;5;66;03m# Including KeyboardInterrupt, wait handled that.\u001b[39;00m\n\u001b[1;32m    393\u001b[0m         p\u001b[38;5;241m.\u001b[39mkill()\n",
      "File \u001b[0;32m/opt/homebrew/Cellar/python@3.11/3.11.3/Frameworks/Python.framework/Versions/3.11/lib/python3.11/subprocess.py:1262\u001b[0m, in \u001b[0;36mPopen.wait\u001b[0;34m(self, timeout)\u001b[0m\n\u001b[1;32m   1260\u001b[0m     endtime \u001b[38;5;241m=\u001b[39m _time() \u001b[38;5;241m+\u001b[39m timeout\n\u001b[1;32m   1261\u001b[0m \u001b[38;5;28;01mtry\u001b[39;00m:\n\u001b[0;32m-> 1262\u001b[0m     \u001b[38;5;28;01mreturn\u001b[39;00m \u001b[38;5;28;43mself\u001b[39;49m\u001b[38;5;241;43m.\u001b[39;49m\u001b[43m_wait\u001b[49m\u001b[43m(\u001b[49m\u001b[43mtimeout\u001b[49m\u001b[38;5;241;43m=\u001b[39;49m\u001b[43mtimeout\u001b[49m\u001b[43m)\u001b[49m\n\u001b[1;32m   1263\u001b[0m \u001b[38;5;28;01mexcept\u001b[39;00m \u001b[38;5;167;01mKeyboardInterrupt\u001b[39;00m:\n\u001b[1;32m   1264\u001b[0m     \u001b[38;5;66;03m# https://bugs.python.org/issue25942\u001b[39;00m\n\u001b[1;32m   1265\u001b[0m     \u001b[38;5;66;03m# The first keyboard interrupt waits briefly for the child to\u001b[39;00m\n\u001b[1;32m   1266\u001b[0m     \u001b[38;5;66;03m# exit under the common assumption that it also received the ^C\u001b[39;00m\n\u001b[1;32m   1267\u001b[0m     \u001b[38;5;66;03m# generated SIGINT and will exit rapidly.\u001b[39;00m\n\u001b[1;32m   1268\u001b[0m     \u001b[38;5;28;01mif\u001b[39;00m timeout \u001b[38;5;129;01mis\u001b[39;00m \u001b[38;5;129;01mnot\u001b[39;00m \u001b[38;5;28;01mNone\u001b[39;00m:\n",
      "File \u001b[0;32m/opt/homebrew/Cellar/python@3.11/3.11.3/Frameworks/Python.framework/Versions/3.11/lib/python3.11/subprocess.py:2013\u001b[0m, in \u001b[0;36mPopen._wait\u001b[0;34m(self, timeout)\u001b[0m\n\u001b[1;32m   2011\u001b[0m \u001b[38;5;28;01mif\u001b[39;00m \u001b[38;5;28mself\u001b[39m\u001b[38;5;241m.\u001b[39mreturncode \u001b[38;5;129;01mis\u001b[39;00m \u001b[38;5;129;01mnot\u001b[39;00m \u001b[38;5;28;01mNone\u001b[39;00m:\n\u001b[1;32m   2012\u001b[0m     \u001b[38;5;28;01mbreak\u001b[39;00m  \u001b[38;5;66;03m# Another thread waited.\u001b[39;00m\n\u001b[0;32m-> 2013\u001b[0m (pid, sts) \u001b[38;5;241m=\u001b[39m \u001b[38;5;28;43mself\u001b[39;49m\u001b[38;5;241;43m.\u001b[39;49m\u001b[43m_try_wait\u001b[49m\u001b[43m(\u001b[49m\u001b[38;5;241;43m0\u001b[39;49m\u001b[43m)\u001b[49m\n\u001b[1;32m   2014\u001b[0m \u001b[38;5;66;03m# Check the pid and loop as waitpid has been known to\u001b[39;00m\n\u001b[1;32m   2015\u001b[0m \u001b[38;5;66;03m# return 0 even without WNOHANG in odd situations.\u001b[39;00m\n\u001b[1;32m   2016\u001b[0m \u001b[38;5;66;03m# http://bugs.python.org/issue14396.\u001b[39;00m\n\u001b[1;32m   2017\u001b[0m \u001b[38;5;28;01mif\u001b[39;00m pid \u001b[38;5;241m==\u001b[39m \u001b[38;5;28mself\u001b[39m\u001b[38;5;241m.\u001b[39mpid:\n",
      "File \u001b[0;32m/opt/homebrew/Cellar/python@3.11/3.11.3/Frameworks/Python.framework/Versions/3.11/lib/python3.11/subprocess.py:1971\u001b[0m, in \u001b[0;36mPopen._try_wait\u001b[0;34m(self, wait_flags)\u001b[0m\n\u001b[1;32m   1969\u001b[0m \u001b[38;5;250m\u001b[39m\u001b[38;5;124;03m\"\"\"All callers to this function MUST hold self._waitpid_lock.\"\"\"\u001b[39;00m\n\u001b[1;32m   1970\u001b[0m \u001b[38;5;28;01mtry\u001b[39;00m:\n\u001b[0;32m-> 1971\u001b[0m     (pid, sts) \u001b[38;5;241m=\u001b[39m \u001b[43mos\u001b[49m\u001b[38;5;241;43m.\u001b[39;49m\u001b[43mwaitpid\u001b[49m\u001b[43m(\u001b[49m\u001b[38;5;28;43mself\u001b[39;49m\u001b[38;5;241;43m.\u001b[39;49m\u001b[43mpid\u001b[49m\u001b[43m,\u001b[49m\u001b[43m \u001b[49m\u001b[43mwait_flags\u001b[49m\u001b[43m)\u001b[49m\n\u001b[1;32m   1972\u001b[0m \u001b[38;5;28;01mexcept\u001b[39;00m \u001b[38;5;167;01mChildProcessError\u001b[39;00m:\n\u001b[1;32m   1973\u001b[0m     \u001b[38;5;66;03m# This happens if SIGCLD is set to be ignored or waiting\u001b[39;00m\n\u001b[1;32m   1974\u001b[0m     \u001b[38;5;66;03m# for child processes has otherwise been disabled for our\u001b[39;00m\n\u001b[1;32m   1975\u001b[0m     \u001b[38;5;66;03m# process.  This child is dead, we can't get the status.\u001b[39;00m\n\u001b[1;32m   1976\u001b[0m     pid \u001b[38;5;241m=\u001b[39m \u001b[38;5;28mself\u001b[39m\u001b[38;5;241m.\u001b[39mpid\n",
      "\u001b[0;31mKeyboardInterrupt\u001b[0m: "
     ]
    }
   ],
   "source": [
    "import subprocess\n",
    "\n",
    "def convert_epub2pdf(path, output):\n",
    "    path = pathlib.Path(path)\n",
    "    output = pathlib.Path(output)\n",
    "    \n",
    "    command = [\n",
    "        'pandoc',\n",
    "        '-V', 'mainfont=\"CMU Sans Serif:style=Medium\"',\n",
    "        '-f', 'epub',\n",
    "        '-t', 'latex',\n",
    "        '-o', output.resolve().as_posix(),\n",
    "        '-V', 'fontenc=T2A',\n",
    "        path.resolve().as_posix(),\n",
    "    ]\n",
    "\n",
    "    print('🍿', command)\n",
    "    print()\n",
    "    \n",
    "    try:\n",
    "        result = subprocess.call(command)\n",
    "    except Exception as e:\n",
    "        print('Err:', e)\n",
    "        print()\n",
    "        \n",
    "    if result != 0:\n",
    "        print('Result: ', result)\n",
    "        print()\n",
    "        return\n",
    "    \n",
    "    return output\n",
    "\n",
    "\n",
    "for epub in epubs:\n",
    "    out = output_pdfs_dir.joinpath(epub.name + '.pdf')\n",
    "    convert_epub2pdf(epub, out)\n",
    "    "
   ]
  },
  {
   "cell_type": "code",
   "execution_count": null,
   "id": "78732f80",
   "metadata": {},
   "outputs": [],
   "source": []
  },
  {
   "cell_type": "code",
   "execution_count": null,
   "id": "ca9fa13a",
   "metadata": {},
   "outputs": [],
   "source": []
  },
  {
   "cell_type": "code",
   "execution_count": null,
   "id": "c9bc9de2",
   "metadata": {},
   "outputs": [],
   "source": []
  },
  {
   "cell_type": "code",
   "execution_count": null,
   "id": "ce368d16",
   "metadata": {},
   "outputs": [],
   "source": []
  },
  {
   "cell_type": "code",
   "execution_count": null,
   "id": "42238510",
   "metadata": {},
   "outputs": [],
   "source": []
  },
  {
   "cell_type": "code",
   "execution_count": null,
   "id": "db000e56",
   "metadata": {},
   "outputs": [],
   "source": []
  },
  {
   "cell_type": "code",
   "execution_count": null,
   "id": "c7a88204",
   "metadata": {},
   "outputs": [],
   "source": []
  },
  {
   "cell_type": "code",
   "execution_count": null,
   "id": "7196bec0",
   "metadata": {},
   "outputs": [],
   "source": []
  }
 ],
 "metadata": {
  "kernelspec": {
   "display_name": "Python 3 (ipykernel)",
   "language": "python",
   "name": "python3"
  },
  "language_info": {
   "codemirror_mode": {
    "name": "ipython",
    "version": 3
   },
   "file_extension": ".py",
   "mimetype": "text/x-python",
   "name": "python",
   "nbconvert_exporter": "python",
   "pygments_lexer": "ipython3",
   "version": "3.11.3"
  }
 },
 "nbformat": 4,
 "nbformat_minor": 5
}
