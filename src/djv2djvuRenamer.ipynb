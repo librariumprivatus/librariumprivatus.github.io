{
 "cells": [
  {
   "cell_type": "code",
   "execution_count": 1,
   "id": "449b0256",
   "metadata": {},
   "outputs": [],
   "source": [
    "import utils\n",
    "\n",
    "HOME = '../data/biblioteka-main/'"
   ]
  },
  {
   "cell_type": "code",
   "execution_count": 2,
   "id": "42a3a8e4",
   "metadata": {},
   "outputs": [
    {
     "name": "stdout",
     "output_type": "stream",
     "text": [
      "🟢 rename_all_djv_file_with_djvu_suffix_in_dir\n",
      "🪢 1 [.djv] files in total files number: 7801\n",
      "🧤 a-test.djv\n",
      "../data/biblioteka-main/004 🌈 Physics/x-Phys-Books/a-test.djv\n",
      "\n"
     ]
    }
   ],
   "source": [
    "utils.rename_all_djv_file_with_djvu_suffix_in_dir(HOME)"
   ]
  }
 ],
 "metadata": {
  "kernelspec": {
   "display_name": "Python 3 (ipykernel)",
   "language": "python",
   "name": "python3"
  },
  "language_info": {
   "codemirror_mode": {
    "name": "ipython",
    "version": 3
   },
   "file_extension": ".py",
   "mimetype": "text/x-python",
   "name": "python",
   "nbconvert_exporter": "python",
   "pygments_lexer": "ipython3",
   "version": "3.11.3"
  }
 },
 "nbformat": 4,
 "nbformat_minor": 5
}
